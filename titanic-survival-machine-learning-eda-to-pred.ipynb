{
 "cells": [
  {
   "cell_type": "code",
   "execution_count": 1,
   "id": "892c22f4",
   "metadata": {
    "_cell_guid": "b1076dfc-b9ad-4769-8c92-a6c4dae69d19",
    "_uuid": "8f2839f25d086af736a60e9eeb907d3b93b6e0e5",
    "execution": {
     "iopub.execute_input": "2023-04-24T21:10:36.339882Z",
     "iopub.status.busy": "2023-04-24T21:10:36.339341Z",
     "iopub.status.idle": "2023-04-24T21:10:36.358601Z",
     "shell.execute_reply": "2023-04-24T21:10:36.356581Z"
    },
    "papermill": {
     "duration": 0.045685,
     "end_time": "2023-04-24T21:10:36.361944",
     "exception": false,
     "start_time": "2023-04-24T21:10:36.316259",
     "status": "completed"
    },
    "tags": []
   },
   "outputs": [
    {
     "name": "stdout",
     "output_type": "stream",
     "text": [
      "/kaggle/input/titanic/train.csv\n",
      "/kaggle/input/titanic/test.csv\n",
      "/kaggle/input/titanic/gender_submission.csv\n"
     ]
    }
   ],
   "source": [
    "# This Python 3 environment comes with many helpful analytics libraries installed\n",
    "# It is defined by the kaggle/python Docker image: https://github.com/kaggle/docker-python\n",
    "# For example, here's several helpful packages to load\n",
    "\n",
    "import numpy as np # linear algebra\n",
    "import pandas as pd # data processing, CSV file I/O (e.g. pd.read_csv)\n",
    "\n",
    "# Input data files are available in the read-only \"../input/\" directory\n",
    "# For example, running this (by clicking run or pressing Shift+Enter) will list all files under the input directory\n",
    "\n",
    "import os\n",
    "for dirname, _, filenames in os.walk('/kaggle/input'):\n",
    "    for filename in filenames:\n",
    "        print(os.path.join(dirname, filename))\n",
    "\n",
    "# You can write up to 20GB to the current directory (/kaggle/working/) that gets preserved as output when you create a version using \"Save & Run All\" \n",
    "# You can also write temporary files to /kaggle/temp/, but they won't be saved outside of the current session"
   ]
  },
  {
   "cell_type": "code",
   "execution_count": 2,
   "id": "5954ce7c",
   "metadata": {
    "execution": {
     "iopub.execute_input": "2023-04-24T21:10:36.408199Z",
     "iopub.status.busy": "2023-04-24T21:10:36.407752Z",
     "iopub.status.idle": "2023-04-24T21:10:36.477990Z",
     "shell.execute_reply": "2023-04-24T21:10:36.476495Z"
    },
    "papermill": {
     "duration": 0.098509,
     "end_time": "2023-04-24T21:10:36.481387",
     "exception": false,
     "start_time": "2023-04-24T21:10:36.382878",
     "status": "completed"
    },
    "tags": []
   },
   "outputs": [
    {
     "data": {
      "text/html": [
       "<div>\n",
       "<style scoped>\n",
       "    .dataframe tbody tr th:only-of-type {\n",
       "        vertical-align: middle;\n",
       "    }\n",
       "\n",
       "    .dataframe tbody tr th {\n",
       "        vertical-align: top;\n",
       "    }\n",
       "\n",
       "    .dataframe thead th {\n",
       "        text-align: right;\n",
       "    }\n",
       "</style>\n",
       "<table border=\"1\" class=\"dataframe\">\n",
       "  <thead>\n",
       "    <tr style=\"text-align: right;\">\n",
       "      <th></th>\n",
       "      <th>PassengerId</th>\n",
       "      <th>Survived</th>\n",
       "      <th>Pclass</th>\n",
       "      <th>Name</th>\n",
       "      <th>Sex</th>\n",
       "      <th>Age</th>\n",
       "      <th>SibSp</th>\n",
       "      <th>Parch</th>\n",
       "      <th>Ticket</th>\n",
       "      <th>Fare</th>\n",
       "      <th>Cabin</th>\n",
       "      <th>Embarked</th>\n",
       "    </tr>\n",
       "  </thead>\n",
       "  <tbody>\n",
       "    <tr>\n",
       "      <th>0</th>\n",
       "      <td>1</td>\n",
       "      <td>0</td>\n",
       "      <td>3</td>\n",
       "      <td>Braund, Mr. Owen Harris</td>\n",
       "      <td>male</td>\n",
       "      <td>22.0</td>\n",
       "      <td>1</td>\n",
       "      <td>0</td>\n",
       "      <td>A/5 21171</td>\n",
       "      <td>7.2500</td>\n",
       "      <td>NaN</td>\n",
       "      <td>S</td>\n",
       "    </tr>\n",
       "    <tr>\n",
       "      <th>1</th>\n",
       "      <td>2</td>\n",
       "      <td>1</td>\n",
       "      <td>1</td>\n",
       "      <td>Cumings, Mrs. John Bradley (Florence Briggs Th...</td>\n",
       "      <td>female</td>\n",
       "      <td>38.0</td>\n",
       "      <td>1</td>\n",
       "      <td>0</td>\n",
       "      <td>PC 17599</td>\n",
       "      <td>71.2833</td>\n",
       "      <td>C85</td>\n",
       "      <td>C</td>\n",
       "    </tr>\n",
       "    <tr>\n",
       "      <th>2</th>\n",
       "      <td>3</td>\n",
       "      <td>1</td>\n",
       "      <td>3</td>\n",
       "      <td>Heikkinen, Miss. Laina</td>\n",
       "      <td>female</td>\n",
       "      <td>26.0</td>\n",
       "      <td>0</td>\n",
       "      <td>0</td>\n",
       "      <td>STON/O2. 3101282</td>\n",
       "      <td>7.9250</td>\n",
       "      <td>NaN</td>\n",
       "      <td>S</td>\n",
       "    </tr>\n",
       "    <tr>\n",
       "      <th>3</th>\n",
       "      <td>4</td>\n",
       "      <td>1</td>\n",
       "      <td>1</td>\n",
       "      <td>Futrelle, Mrs. Jacques Heath (Lily May Peel)</td>\n",
       "      <td>female</td>\n",
       "      <td>35.0</td>\n",
       "      <td>1</td>\n",
       "      <td>0</td>\n",
       "      <td>113803</td>\n",
       "      <td>53.1000</td>\n",
       "      <td>C123</td>\n",
       "      <td>S</td>\n",
       "    </tr>\n",
       "    <tr>\n",
       "      <th>4</th>\n",
       "      <td>5</td>\n",
       "      <td>0</td>\n",
       "      <td>3</td>\n",
       "      <td>Allen, Mr. William Henry</td>\n",
       "      <td>male</td>\n",
       "      <td>35.0</td>\n",
       "      <td>0</td>\n",
       "      <td>0</td>\n",
       "      <td>373450</td>\n",
       "      <td>8.0500</td>\n",
       "      <td>NaN</td>\n",
       "      <td>S</td>\n",
       "    </tr>\n",
       "    <tr>\n",
       "      <th>5</th>\n",
       "      <td>6</td>\n",
       "      <td>0</td>\n",
       "      <td>3</td>\n",
       "      <td>Moran, Mr. James</td>\n",
       "      <td>male</td>\n",
       "      <td>NaN</td>\n",
       "      <td>0</td>\n",
       "      <td>0</td>\n",
       "      <td>330877</td>\n",
       "      <td>8.4583</td>\n",
       "      <td>NaN</td>\n",
       "      <td>Q</td>\n",
       "    </tr>\n",
       "    <tr>\n",
       "      <th>6</th>\n",
       "      <td>7</td>\n",
       "      <td>0</td>\n",
       "      <td>1</td>\n",
       "      <td>McCarthy, Mr. Timothy J</td>\n",
       "      <td>male</td>\n",
       "      <td>54.0</td>\n",
       "      <td>0</td>\n",
       "      <td>0</td>\n",
       "      <td>17463</td>\n",
       "      <td>51.8625</td>\n",
       "      <td>E46</td>\n",
       "      <td>S</td>\n",
       "    </tr>\n",
       "    <tr>\n",
       "      <th>7</th>\n",
       "      <td>8</td>\n",
       "      <td>0</td>\n",
       "      <td>3</td>\n",
       "      <td>Palsson, Master. Gosta Leonard</td>\n",
       "      <td>male</td>\n",
       "      <td>2.0</td>\n",
       "      <td>3</td>\n",
       "      <td>1</td>\n",
       "      <td>349909</td>\n",
       "      <td>21.0750</td>\n",
       "      <td>NaN</td>\n",
       "      <td>S</td>\n",
       "    </tr>\n",
       "    <tr>\n",
       "      <th>8</th>\n",
       "      <td>9</td>\n",
       "      <td>1</td>\n",
       "      <td>3</td>\n",
       "      <td>Johnson, Mrs. Oscar W (Elisabeth Vilhelmina Berg)</td>\n",
       "      <td>female</td>\n",
       "      <td>27.0</td>\n",
       "      <td>0</td>\n",
       "      <td>2</td>\n",
       "      <td>347742</td>\n",
       "      <td>11.1333</td>\n",
       "      <td>NaN</td>\n",
       "      <td>S</td>\n",
       "    </tr>\n",
       "    <tr>\n",
       "      <th>9</th>\n",
       "      <td>10</td>\n",
       "      <td>1</td>\n",
       "      <td>2</td>\n",
       "      <td>Nasser, Mrs. Nicholas (Adele Achem)</td>\n",
       "      <td>female</td>\n",
       "      <td>14.0</td>\n",
       "      <td>1</td>\n",
       "      <td>0</td>\n",
       "      <td>237736</td>\n",
       "      <td>30.0708</td>\n",
       "      <td>NaN</td>\n",
       "      <td>C</td>\n",
       "    </tr>\n",
       "  </tbody>\n",
       "</table>\n",
       "</div>"
      ],
      "text/plain": [
       "   PassengerId  Survived  Pclass  \\\n",
       "0            1         0       3   \n",
       "1            2         1       1   \n",
       "2            3         1       3   \n",
       "3            4         1       1   \n",
       "4            5         0       3   \n",
       "5            6         0       3   \n",
       "6            7         0       1   \n",
       "7            8         0       3   \n",
       "8            9         1       3   \n",
       "9           10         1       2   \n",
       "\n",
       "                                                Name     Sex   Age  SibSp  \\\n",
       "0                            Braund, Mr. Owen Harris    male  22.0      1   \n",
       "1  Cumings, Mrs. John Bradley (Florence Briggs Th...  female  38.0      1   \n",
       "2                             Heikkinen, Miss. Laina  female  26.0      0   \n",
       "3       Futrelle, Mrs. Jacques Heath (Lily May Peel)  female  35.0      1   \n",
       "4                           Allen, Mr. William Henry    male  35.0      0   \n",
       "5                                   Moran, Mr. James    male   NaN      0   \n",
       "6                            McCarthy, Mr. Timothy J    male  54.0      0   \n",
       "7                     Palsson, Master. Gosta Leonard    male   2.0      3   \n",
       "8  Johnson, Mrs. Oscar W (Elisabeth Vilhelmina Berg)  female  27.0      0   \n",
       "9                Nasser, Mrs. Nicholas (Adele Achem)  female  14.0      1   \n",
       "\n",
       "   Parch            Ticket     Fare Cabin Embarked  \n",
       "0      0         A/5 21171   7.2500   NaN        S  \n",
       "1      0          PC 17599  71.2833   C85        C  \n",
       "2      0  STON/O2. 3101282   7.9250   NaN        S  \n",
       "3      0            113803  53.1000  C123        S  \n",
       "4      0            373450   8.0500   NaN        S  \n",
       "5      0            330877   8.4583   NaN        Q  \n",
       "6      0             17463  51.8625   E46        S  \n",
       "7      1            349909  21.0750   NaN        S  \n",
       "8      2            347742  11.1333   NaN        S  \n",
       "9      0            237736  30.0708   NaN        C  "
      ]
     },
     "execution_count": 2,
     "metadata": {},
     "output_type": "execute_result"
    }
   ],
   "source": [
    "train_df = pd.read_csv(\"/kaggle/input/titanic/train.csv\")\n",
    "test_df = pd.read_csv(\"/kaggle/input/titanic/test.csv\")\n",
    "\n",
    "train_df.head(10)"
   ]
  },
  {
   "cell_type": "markdown",
   "id": "6a389129",
   "metadata": {
    "execution": {
     "iopub.execute_input": "2023-04-24T11:27:09.622089Z",
     "iopub.status.busy": "2023-04-24T11:27:09.621704Z",
     "iopub.status.idle": "2023-04-24T11:27:09.626621Z",
     "shell.execute_reply": "2023-04-24T11:27:09.625411Z",
     "shell.execute_reply.started": "2023-04-24T11:27:09.622055Z"
    },
    "papermill": {
     "duration": 0.018373,
     "end_time": "2023-04-24T21:10:36.519892",
     "exception": false,
     "start_time": "2023-04-24T21:10:36.501519",
     "status": "completed"
    },
    "tags": []
   },
   "source": [
    "# **EXPLORATORY DATA ANALYSIS (VISUALIZATION)**"
   ]
  },
  {
   "cell_type": "markdown",
   "id": "6ab804e7",
   "metadata": {
    "papermill": {
     "duration": 0.019128,
     "end_time": "2023-04-24T21:10:36.557983",
     "exception": false,
     "start_time": "2023-04-24T21:10:36.538855",
     "status": "completed"
    },
    "tags": []
   },
   "source": [
    "A description of the data given along side visualization to possible relationships and correllation within the features of the data."
   ]
  },
  {
   "cell_type": "markdown",
   "id": "ee8974fb",
   "metadata": {
    "papermill": {
     "duration": 0.020772,
     "end_time": "2023-04-24T21:10:36.597888",
     "exception": false,
     "start_time": "2023-04-24T21:10:36.577116",
     "status": "completed"
    },
    "tags": []
   },
   "source": [
    "* Data frame information to review data types, missing data, and number of rows"
   ]
  },
  {
   "cell_type": "code",
   "execution_count": 3,
   "id": "ed8912d9",
   "metadata": {
    "execution": {
     "iopub.execute_input": "2023-04-24T21:10:36.642128Z",
     "iopub.status.busy": "2023-04-24T21:10:36.641182Z",
     "iopub.status.idle": "2023-04-24T21:10:36.675412Z",
     "shell.execute_reply": "2023-04-24T21:10:36.674025Z"
    },
    "papermill": {
     "duration": 0.058654,
     "end_time": "2023-04-24T21:10:36.678207",
     "exception": false,
     "start_time": "2023-04-24T21:10:36.619553",
     "status": "completed"
    },
    "tags": []
   },
   "outputs": [
    {
     "name": "stdout",
     "output_type": "stream",
     "text": [
      "<class 'pandas.core.frame.DataFrame'>\n",
      "RangeIndex: 891 entries, 0 to 890\n",
      "Data columns (total 12 columns):\n",
      " #   Column       Non-Null Count  Dtype  \n",
      "---  ------       --------------  -----  \n",
      " 0   PassengerId  891 non-null    int64  \n",
      " 1   Survived     891 non-null    int64  \n",
      " 2   Pclass       891 non-null    int64  \n",
      " 3   Name         891 non-null    object \n",
      " 4   Sex          891 non-null    object \n",
      " 5   Age          714 non-null    float64\n",
      " 6   SibSp        891 non-null    int64  \n",
      " 7   Parch        891 non-null    int64  \n",
      " 8   Ticket       891 non-null    object \n",
      " 9   Fare         891 non-null    float64\n",
      " 10  Cabin        204 non-null    object \n",
      " 11  Embarked     889 non-null    object \n",
      "dtypes: float64(2), int64(5), object(5)\n",
      "memory usage: 83.7+ KB\n"
     ]
    }
   ],
   "source": [
    "train_df.info()"
   ]
  },
  {
   "cell_type": "markdown",
   "id": "84929b45",
   "metadata": {
    "papermill": {
     "duration": 0.019521,
     "end_time": "2023-04-24T21:10:36.716474",
     "exception": false,
     "start_time": "2023-04-24T21:10:36.696953",
     "status": "completed"
    },
    "tags": []
   },
   "source": [
    "* The sescribe function to review the distribution of numberical data"
   ]
  },
  {
   "cell_type": "code",
   "execution_count": 4,
   "id": "afc95d33",
   "metadata": {
    "execution": {
     "iopub.execute_input": "2023-04-24T21:10:36.762859Z",
     "iopub.status.busy": "2023-04-24T21:10:36.762001Z",
     "iopub.status.idle": "2023-04-24T21:10:36.809798Z",
     "shell.execute_reply": "2023-04-24T21:10:36.808719Z"
    },
    "papermill": {
     "duration": 0.075508,
     "end_time": "2023-04-24T21:10:36.813114",
     "exception": false,
     "start_time": "2023-04-24T21:10:36.737606",
     "status": "completed"
    },
    "tags": []
   },
   "outputs": [
    {
     "data": {
      "text/html": [
       "<div>\n",
       "<style scoped>\n",
       "    .dataframe tbody tr th:only-of-type {\n",
       "        vertical-align: middle;\n",
       "    }\n",
       "\n",
       "    .dataframe tbody tr th {\n",
       "        vertical-align: top;\n",
       "    }\n",
       "\n",
       "    .dataframe thead th {\n",
       "        text-align: right;\n",
       "    }\n",
       "</style>\n",
       "<table border=\"1\" class=\"dataframe\">\n",
       "  <thead>\n",
       "    <tr style=\"text-align: right;\">\n",
       "      <th></th>\n",
       "      <th>PassengerId</th>\n",
       "      <th>Survived</th>\n",
       "      <th>Pclass</th>\n",
       "      <th>Age</th>\n",
       "      <th>SibSp</th>\n",
       "      <th>Parch</th>\n",
       "      <th>Fare</th>\n",
       "    </tr>\n",
       "  </thead>\n",
       "  <tbody>\n",
       "    <tr>\n",
       "      <th>count</th>\n",
       "      <td>891.000000</td>\n",
       "      <td>891.000000</td>\n",
       "      <td>891.000000</td>\n",
       "      <td>714.000000</td>\n",
       "      <td>891.000000</td>\n",
       "      <td>891.000000</td>\n",
       "      <td>891.000000</td>\n",
       "    </tr>\n",
       "    <tr>\n",
       "      <th>mean</th>\n",
       "      <td>446.000000</td>\n",
       "      <td>0.383838</td>\n",
       "      <td>2.308642</td>\n",
       "      <td>29.699118</td>\n",
       "      <td>0.523008</td>\n",
       "      <td>0.381594</td>\n",
       "      <td>32.204208</td>\n",
       "    </tr>\n",
       "    <tr>\n",
       "      <th>std</th>\n",
       "      <td>257.353842</td>\n",
       "      <td>0.486592</td>\n",
       "      <td>0.836071</td>\n",
       "      <td>14.526497</td>\n",
       "      <td>1.102743</td>\n",
       "      <td>0.806057</td>\n",
       "      <td>49.693429</td>\n",
       "    </tr>\n",
       "    <tr>\n",
       "      <th>min</th>\n",
       "      <td>1.000000</td>\n",
       "      <td>0.000000</td>\n",
       "      <td>1.000000</td>\n",
       "      <td>0.420000</td>\n",
       "      <td>0.000000</td>\n",
       "      <td>0.000000</td>\n",
       "      <td>0.000000</td>\n",
       "    </tr>\n",
       "    <tr>\n",
       "      <th>25%</th>\n",
       "      <td>223.500000</td>\n",
       "      <td>0.000000</td>\n",
       "      <td>2.000000</td>\n",
       "      <td>20.125000</td>\n",
       "      <td>0.000000</td>\n",
       "      <td>0.000000</td>\n",
       "      <td>7.910400</td>\n",
       "    </tr>\n",
       "    <tr>\n",
       "      <th>50%</th>\n",
       "      <td>446.000000</td>\n",
       "      <td>0.000000</td>\n",
       "      <td>3.000000</td>\n",
       "      <td>28.000000</td>\n",
       "      <td>0.000000</td>\n",
       "      <td>0.000000</td>\n",
       "      <td>14.454200</td>\n",
       "    </tr>\n",
       "    <tr>\n",
       "      <th>75%</th>\n",
       "      <td>668.500000</td>\n",
       "      <td>1.000000</td>\n",
       "      <td>3.000000</td>\n",
       "      <td>38.000000</td>\n",
       "      <td>1.000000</td>\n",
       "      <td>0.000000</td>\n",
       "      <td>31.000000</td>\n",
       "    </tr>\n",
       "    <tr>\n",
       "      <th>max</th>\n",
       "      <td>891.000000</td>\n",
       "      <td>1.000000</td>\n",
       "      <td>3.000000</td>\n",
       "      <td>80.000000</td>\n",
       "      <td>8.000000</td>\n",
       "      <td>6.000000</td>\n",
       "      <td>512.329200</td>\n",
       "    </tr>\n",
       "  </tbody>\n",
       "</table>\n",
       "</div>"
      ],
      "text/plain": [
       "       PassengerId    Survived      Pclass         Age       SibSp  \\\n",
       "count   891.000000  891.000000  891.000000  714.000000  891.000000   \n",
       "mean    446.000000    0.383838    2.308642   29.699118    0.523008   \n",
       "std     257.353842    0.486592    0.836071   14.526497    1.102743   \n",
       "min       1.000000    0.000000    1.000000    0.420000    0.000000   \n",
       "25%     223.500000    0.000000    2.000000   20.125000    0.000000   \n",
       "50%     446.000000    0.000000    3.000000   28.000000    0.000000   \n",
       "75%     668.500000    1.000000    3.000000   38.000000    1.000000   \n",
       "max     891.000000    1.000000    3.000000   80.000000    8.000000   \n",
       "\n",
       "            Parch        Fare  \n",
       "count  891.000000  891.000000  \n",
       "mean     0.381594   32.204208  \n",
       "std      0.806057   49.693429  \n",
       "min      0.000000    0.000000  \n",
       "25%      0.000000    7.910400  \n",
       "50%      0.000000   14.454200  \n",
       "75%      0.000000   31.000000  \n",
       "max      6.000000  512.329200  "
      ]
     },
     "execution_count": 4,
     "metadata": {},
     "output_type": "execute_result"
    }
   ],
   "source": [
    "train_df.describe()"
   ]
  },
  {
   "cell_type": "code",
   "execution_count": 5,
   "id": "7d70dc2c",
   "metadata": {
    "execution": {
     "iopub.execute_input": "2023-04-24T21:10:36.857511Z",
     "iopub.status.busy": "2023-04-24T21:10:36.856429Z",
     "iopub.status.idle": "2023-04-24T21:10:36.873007Z",
     "shell.execute_reply": "2023-04-24T21:10:36.870826Z"
    },
    "papermill": {
     "duration": 0.043078,
     "end_time": "2023-04-24T21:10:36.876300",
     "exception": false,
     "start_time": "2023-04-24T21:10:36.833222",
     "status": "completed"
    },
    "tags": []
   },
   "outputs": [
    {
     "name": "stdout",
     "output_type": "stream",
     "text": [
      "<class 'pandas.core.frame.DataFrame'>\n",
      "RangeIndex: 418 entries, 0 to 417\n",
      "Data columns (total 11 columns):\n",
      " #   Column       Non-Null Count  Dtype  \n",
      "---  ------       --------------  -----  \n",
      " 0   PassengerId  418 non-null    int64  \n",
      " 1   Pclass       418 non-null    int64  \n",
      " 2   Name         418 non-null    object \n",
      " 3   Sex          418 non-null    object \n",
      " 4   Age          332 non-null    float64\n",
      " 5   SibSp        418 non-null    int64  \n",
      " 6   Parch        418 non-null    int64  \n",
      " 7   Ticket       418 non-null    object \n",
      " 8   Fare         417 non-null    float64\n",
      " 9   Cabin        91 non-null     object \n",
      " 10  Embarked     418 non-null    object \n",
      "dtypes: float64(2), int64(4), object(5)\n",
      "memory usage: 36.0+ KB\n"
     ]
    }
   ],
   "source": [
    "test_df.info()"
   ]
  },
  {
   "cell_type": "markdown",
   "id": "7bc13a02",
   "metadata": {
    "papermill": {
     "duration": 0.020632,
     "end_time": "2023-04-24T21:10:36.917596",
     "exception": false,
     "start_time": "2023-04-24T21:10:36.896964",
     "status": "completed"
    },
    "tags": []
   },
   "source": [
    "**Treat missing Data**"
   ]
  },
  {
   "cell_type": "code",
   "execution_count": 6,
   "id": "9f621fe2",
   "metadata": {
    "execution": {
     "iopub.execute_input": "2023-04-24T21:10:36.961230Z",
     "iopub.status.busy": "2023-04-24T21:10:36.960143Z",
     "iopub.status.idle": "2023-04-24T21:10:36.989987Z",
     "shell.execute_reply": "2023-04-24T21:10:36.987666Z"
    },
    "papermill": {
     "duration": 0.055184,
     "end_time": "2023-04-24T21:10:36.993481",
     "exception": false,
     "start_time": "2023-04-24T21:10:36.938297",
     "status": "completed"
    },
    "tags": []
   },
   "outputs": [
    {
     "name": "stdout",
     "output_type": "stream",
     "text": [
      "<class 'pandas.core.frame.DataFrame'>\n",
      "RangeIndex: 891 entries, 0 to 890\n",
      "Data columns (total 12 columns):\n",
      " #   Column       Non-Null Count  Dtype  \n",
      "---  ------       --------------  -----  \n",
      " 0   PassengerId  891 non-null    int64  \n",
      " 1   Survived     891 non-null    int64  \n",
      " 2   Pclass       891 non-null    int64  \n",
      " 3   Name         891 non-null    object \n",
      " 4   Sex          891 non-null    object \n",
      " 5   Age          891 non-null    float64\n",
      " 6   SibSp        891 non-null    int64  \n",
      " 7   Parch        891 non-null    int64  \n",
      " 8   Ticket       891 non-null    object \n",
      " 9   Fare         891 non-null    float64\n",
      " 10  Cabin        204 non-null    object \n",
      " 11  Embarked     889 non-null    object \n",
      "dtypes: float64(2), int64(5), object(5)\n",
      "memory usage: 83.7+ KB\n",
      "________________________________________\n",
      "<class 'pandas.core.frame.DataFrame'>\n",
      "RangeIndex: 418 entries, 0 to 417\n",
      "Data columns (total 11 columns):\n",
      " #   Column       Non-Null Count  Dtype  \n",
      "---  ------       --------------  -----  \n",
      " 0   PassengerId  418 non-null    int64  \n",
      " 1   Pclass       418 non-null    int64  \n",
      " 2   Name         418 non-null    object \n",
      " 3   Sex          418 non-null    object \n",
      " 4   Age          418 non-null    float64\n",
      " 5   SibSp        418 non-null    int64  \n",
      " 6   Parch        418 non-null    int64  \n",
      " 7   Ticket       418 non-null    object \n",
      " 8   Fare         418 non-null    float64\n",
      " 9   Cabin        91 non-null     object \n",
      " 10  Embarked     418 non-null    object \n",
      "dtypes: float64(2), int64(4), object(5)\n",
      "memory usage: 36.0+ KB\n"
     ]
    }
   ],
   "source": [
    "train_df['Age'].fillna(int(train_df['Age'].mean()), inplace=True)\n",
    "test_df['Age'].fillna(int(test_df['Age'].mean()), inplace=True)\n",
    "test_df['Fare'].fillna(int(test_df['Fare'].mean()), inplace=True)\n",
    "\n",
    "train_df.info()\n",
    "print('_'*40)\n",
    "test_df.info()"
   ]
  },
  {
   "cell_type": "code",
   "execution_count": 7,
   "id": "a0d4c47b",
   "metadata": {
    "execution": {
     "iopub.execute_input": "2023-04-24T21:10:37.037971Z",
     "iopub.status.busy": "2023-04-24T21:10:37.037229Z",
     "iopub.status.idle": "2023-04-24T21:10:39.264040Z",
     "shell.execute_reply": "2023-04-24T21:10:39.262218Z"
    },
    "papermill": {
     "duration": 2.252932,
     "end_time": "2023-04-24T21:10:39.267189",
     "exception": false,
     "start_time": "2023-04-24T21:10:37.014257",
     "status": "completed"
    },
    "tags": []
   },
   "outputs": [],
   "source": [
    "#Import needed resource\n",
    "\n",
    "# data analysis and wrangling\n",
    "import pandas as pd\n",
    "import numpy as np\n",
    "import random as rnd\n",
    "\n",
    "# visualization\n",
    "import seaborn as sns\n",
    "import matplotlib.pyplot as plt\n",
    "%matplotlib inline\n",
    "\n",
    "# machine learning\n",
    "from sklearn.linear_model import LogisticRegression\n",
    "from sklearn.svm import SVC, LinearSVC\n",
    "from sklearn.ensemble import RandomForestClassifier\n",
    "from sklearn.neighbors import KNeighborsClassifier\n",
    "from sklearn.naive_bayes import GaussianNB\n",
    "from sklearn.linear_model import SGDClassifier\n",
    "from sklearn.tree import DecisionTreeClassifier"
   ]
  },
  {
   "cell_type": "markdown",
   "id": "066a3110",
   "metadata": {
    "papermill": {
     "duration": 0.018772,
     "end_time": "2023-04-24T21:10:39.305600",
     "exception": false,
     "start_time": "2023-04-24T21:10:39.286828",
     "status": "completed"
    },
    "tags": []
   },
   "source": [
    "### 1. Review correlation within features"
   ]
  },
  {
   "cell_type": "code",
   "execution_count": 8,
   "id": "a44683f4",
   "metadata": {
    "execution": {
     "iopub.execute_input": "2023-04-24T21:10:39.347557Z",
     "iopub.status.busy": "2023-04-24T21:10:39.347120Z",
     "iopub.status.idle": "2023-04-24T21:10:40.005977Z",
     "shell.execute_reply": "2023-04-24T21:10:40.004815Z"
    },
    "papermill": {
     "duration": 0.682903,
     "end_time": "2023-04-24T21:10:40.008798",
     "exception": false,
     "start_time": "2023-04-24T21:10:39.325895",
     "status": "completed"
    },
    "tags": []
   },
   "outputs": [
    {
     "name": "stdout",
     "output_type": "stream",
     "text": [
      "             PassengerId  Survived    Pclass       Age     SibSp     Parch  \\\n",
      "PassengerId     1.000000 -0.005007 -0.035144  0.033632 -0.057527 -0.001652   \n",
      "Survived       -0.005007  1.000000 -0.338481 -0.067814 -0.035322  0.081629   \n",
      "Pclass         -0.035144 -0.338481  1.000000 -0.334974  0.083081  0.018443   \n",
      "Age             0.033632 -0.067814 -0.334974  1.000000 -0.232978 -0.176486   \n",
      "SibSp          -0.057527 -0.035322  0.083081 -0.232978  1.000000  0.414838   \n",
      "Parch          -0.001652  0.081629  0.018443 -0.176486  0.414838  1.000000   \n",
      "Fare            0.012658  0.257307 -0.549500  0.093706  0.159651  0.216225   \n",
      "\n",
      "                 Fare  \n",
      "PassengerId  0.012658  \n",
      "Survived     0.257307  \n",
      "Pclass      -0.549500  \n",
      "Age          0.093706  \n",
      "SibSp        0.159651  \n",
      "Parch        0.216225  \n",
      "Fare         1.000000  \n"
     ]
    },
    {
     "data": {
      "image/png": "[encoded data removed]",
      "text/plain": [
       "<Figure size 640x480 with 2 Axes>"
      ]
     },
     "metadata": {},
     "output_type": "display_data"
    }
   ],
   "source": [
    "print(train_df.corr())\n",
    "  \n",
    "# plotting correlation heatmap\n",
    "dataplot = sns.heatmap(train_df.corr(), annot=True)\n",
    "  \n",
    "# displaying heatmap\n",
    "plt.show()"
   ]
  },
  {
   "cell_type": "markdown",
   "id": "16633f05",
   "metadata": {
    "papermill": {
     "duration": 0.021177,
     "end_time": "2023-04-24T21:10:40.051633",
     "exception": false,
     "start_time": "2023-04-24T21:10:40.030456",
     "status": "completed"
    },
    "tags": []
   },
   "source": [
    "## Graphically explore the relationship within features and the target variable (Survival)"
   ]
  },
  {
   "cell_type": "code",
   "execution_count": 9,
   "id": "4084b00e",
   "metadata": {
    "_kg_hide-input": false,
    "execution": {
     "iopub.execute_input": "2023-04-24T21:10:40.099358Z",
     "iopub.status.busy": "2023-04-24T21:10:40.097722Z",
     "iopub.status.idle": "2023-04-24T21:10:40.113953Z",
     "shell.execute_reply": "2023-04-24T21:10:40.112972Z"
    },
    "papermill": {
     "duration": 0.043636,
     "end_time": "2023-04-24T21:10:40.116656",
     "exception": false,
     "start_time": "2023-04-24T21:10:40.073020",
     "status": "completed"
    },
    "tags": []
   },
   "outputs": [
    {
     "data": {
      "text/html": [
       "<div>\n",
       "<style scoped>\n",
       "    .dataframe tbody tr th:only-of-type {\n",
       "        vertical-align: middle;\n",
       "    }\n",
       "\n",
       "    .dataframe tbody tr th {\n",
       "        vertical-align: top;\n",
       "    }\n",
       "\n",
       "    .dataframe thead th {\n",
       "        text-align: right;\n",
       "    }\n",
       "</style>\n",
       "<table border=\"1\" class=\"dataframe\">\n",
       "  <thead>\n",
       "    <tr style=\"text-align: right;\">\n",
       "      <th></th>\n",
       "      <th>Pclass</th>\n",
       "      <th>Survived</th>\n",
       "    </tr>\n",
       "  </thead>\n",
       "  <tbody>\n",
       "    <tr>\n",
       "      <th>0</th>\n",
       "      <td>1</td>\n",
       "      <td>0.629630</td>\n",
       "    </tr>\n",
       "    <tr>\n",
       "      <th>1</th>\n",
       "      <td>2</td>\n",
       "      <td>0.472826</td>\n",
       "    </tr>\n",
       "    <tr>\n",
       "      <th>2</th>\n",
       "      <td>3</td>\n",
       "      <td>0.242363</td>\n",
       "    </tr>\n",
       "  </tbody>\n",
       "</table>\n",
       "</div>"
      ],
      "text/plain": [
       "   Pclass  Survived\n",
       "0       1  0.629630\n",
       "1       2  0.472826\n",
       "2       3  0.242363"
      ]
     },
     "execution_count": 9,
     "metadata": {},
     "output_type": "execute_result"
    }
   ],
   "source": [
    "train_df[['Pclass', 'Survived']].groupby(['Pclass'], as_index=False).mean().sort_values(by='Survived', ascending=False)"
   ]
  },
  {
   "cell_type": "code",
   "execution_count": 10,
   "id": "e808fe50",
   "metadata": {
    "execution": {
     "iopub.execute_input": "2023-04-24T21:10:40.163146Z",
     "iopub.status.busy": "2023-04-24T21:10:40.162213Z",
     "iopub.status.idle": "2023-04-24T21:10:40.429436Z",
     "shell.execute_reply": "2023-04-24T21:10:40.428033Z"
    },
    "papermill": {
     "duration": 0.294196,
     "end_time": "2023-04-24T21:10:40.432616",
     "exception": false,
     "start_time": "2023-04-24T21:10:40.138420",
     "status": "completed"
    },
    "tags": []
   },
   "outputs": [
    {
     "data": {
      "image/png": "[encoded data removed]",
      "text/plain": [
       "<Figure size 640x480 with 1 Axes>"
      ]
     },
     "metadata": {},
     "output_type": "display_data"
    }
   ],
   "source": [
    "axis = sns.countplot(x = \"Pclass\", hue = \"Survived\", palette = \"Set1\", data = train_df )\n",
    "axis.set(title = \"No. of People that survived by Ticket Class\", xlabel = \"Pclass\",ylabel = \"No.of People\")\n",
    "plt.show()"
   ]
  },
  {
   "cell_type": "markdown",
   "id": "a7b1cdce",
   "metadata": {
    "papermill": {
     "duration": 0.021696,
     "end_time": "2023-04-24T21:10:40.476343",
     "exception": false,
     "start_time": "2023-04-24T21:10:40.454647",
     "status": "completed"
    },
    "tags": []
   },
   "source": [
    "This reveals that individuals with 1st class ticket had a 62% chance of survival. \\\n",
    "The 3rd class tickets had the lowest chance of survival 24% per the number of individuals who purchased the tickets."
   ]
  },
  {
   "cell_type": "code",
   "execution_count": 11,
   "id": "52208b29",
   "metadata": {
    "execution": {
     "iopub.execute_input": "2023-04-24T21:10:40.524284Z",
     "iopub.status.busy": "2023-04-24T21:10:40.523022Z",
     "iopub.status.idle": "2023-04-24T21:10:40.543755Z",
     "shell.execute_reply": "2023-04-24T21:10:40.541974Z"
    },
    "papermill": {
     "duration": 0.049214,
     "end_time": "2023-04-24T21:10:40.547674",
     "exception": false,
     "start_time": "2023-04-24T21:10:40.498460",
     "status": "completed"
    },
    "tags": []
   },
   "outputs": [
    {
     "data": {
      "text/html": [
       "<div>\n",
       "<style scoped>\n",
       "    .dataframe tbody tr th:only-of-type {\n",
       "        vertical-align: middle;\n",
       "    }\n",
       "\n",
       "    .dataframe tbody tr th {\n",
       "        vertical-align: top;\n",
       "    }\n",
       "\n",
       "    .dataframe thead th {\n",
       "        text-align: right;\n",
       "    }\n",
       "</style>\n",
       "<table border=\"1\" class=\"dataframe\">\n",
       "  <thead>\n",
       "    <tr style=\"text-align: right;\">\n",
       "      <th></th>\n",
       "      <th>Sex</th>\n",
       "      <th>Survived</th>\n",
       "    </tr>\n",
       "  </thead>\n",
       "  <tbody>\n",
       "    <tr>\n",
       "      <th>0</th>\n",
       "      <td>female</td>\n",
       "      <td>0.742038</td>\n",
       "    </tr>\n",
       "    <tr>\n",
       "      <th>1</th>\n",
       "      <td>male</td>\n",
       "      <td>0.188908</td>\n",
       "    </tr>\n",
       "  </tbody>\n",
       "</table>\n",
       "</div>"
      ],
      "text/plain": [
       "      Sex  Survived\n",
       "0  female  0.742038\n",
       "1    male  0.188908"
      ]
     },
     "execution_count": 11,
     "metadata": {},
     "output_type": "execute_result"
    }
   ],
   "source": [
    "train_df[[\"Sex\", \"Survived\"]].groupby(['Sex'], as_index=False).mean().sort_values(by='Survived', ascending=False)\n"
   ]
  },
  {
   "cell_type": "code",
   "execution_count": 12,
   "id": "0d762f31",
   "metadata": {
    "execution": {
     "iopub.execute_input": "2023-04-24T21:10:40.597085Z",
     "iopub.status.busy": "2023-04-24T21:10:40.595976Z",
     "iopub.status.idle": "2023-04-24T21:10:40.832074Z",
     "shell.execute_reply": "2023-04-24T21:10:40.830670Z"
    },
    "papermill": {
     "duration": 0.266684,
     "end_time": "2023-04-24T21:10:40.837661",
     "exception": false,
     "start_time": "2023-04-24T21:10:40.570977",
     "status": "completed"
    },
    "tags": []
   },
   "outputs": [
    {
     "data": {
      "image/png": "[encoded data removed]",
      "text/plain": [
       "<Figure size 640x480 with 1 Axes>"
      ]
     },
     "metadata": {},
     "output_type": "display_data"
    }
   ],
   "source": [
    "axis = sns.countplot(x = \"Sex\", hue = \"Survived\", palette = \"Set1\", data = train_df )\n",
    "axis.set(title = \"The survival rate by Sex\", xlabel = \"Sex\",ylabel = \"No.of People\")\n",
    "plt.show()"
   ]
  },
  {
   "cell_type": "markdown",
   "id": "6c761cce",
   "metadata": {
    "papermill": {
     "duration": 0.02143,
     "end_time": "2023-04-24T21:10:40.886211",
     "exception": false,
     "start_time": "2023-04-24T21:10:40.864781",
     "status": "completed"
    },
    "tags": []
   },
   "source": [
    "A higher percentage of the females survived compared to males."
   ]
  },
  {
   "cell_type": "code",
   "execution_count": 13,
   "id": "400ca46c",
   "metadata": {
    "execution": {
     "iopub.execute_input": "2023-04-24T21:10:40.934773Z",
     "iopub.status.busy": "2023-04-24T21:10:40.934309Z",
     "iopub.status.idle": "2023-04-24T21:10:43.048775Z",
     "shell.execute_reply": "2023-04-24T21:10:43.046745Z"
    },
    "papermill": {
     "duration": 2.142598,
     "end_time": "2023-04-24T21:10:43.051759",
     "exception": false,
     "start_time": "2023-04-24T21:10:40.909161",
     "status": "completed"
    },
    "tags": []
   },
   "outputs": [
    {
     "data": {
      "text/plain": [
       "<seaborn.axisgrid.FacetGrid at 0x727e1fe99cd0>"
      ]
     },
     "execution_count": 13,
     "metadata": {},
     "output_type": "execute_result"
    },
    {
     "data": {
      "image/png": "[encoded data removed]",
      "text/plain": [
       "<Figure size 971.111x900 with 6 Axes>"
      ]
     },
     "metadata": {},
     "output_type": "display_data"
    }
   ],
   "source": [
    "grid = sns.FacetGrid(train_df, col='Sex',row='Pclass', aspect=1.6)\n",
    "grid.map(plt.hist, 'Age', alpha=.5, bins=20)\n",
    "grid.add_legend()"
   ]
  },
  {
   "cell_type": "markdown",
   "id": "92da702a",
   "metadata": {
    "papermill": {
     "duration": 0.022862,
     "end_time": "2023-04-24T21:10:43.097135",
     "exception": false,
     "start_time": "2023-04-24T21:10:43.074273",
     "status": "completed"
    },
    "tags": []
   },
   "source": [
    "A review from the chart above showed a wide spread in the distribution of age in the 1st class section of the ship. \\\n",
    "The age ranged from 25 to 70 years of age with the distribution to non below 15.\\\n",
    "The 3rd class section had a high distribution of males just under 30 years of age.\\\n",
    "It also revelas that the 3rd class had the highest number of females beloow the age of 10 years."
   ]
  },
  {
   "cell_type": "code",
   "execution_count": 14,
   "id": "74c1d721",
   "metadata": {
    "execution": {
     "iopub.execute_input": "2023-04-24T21:10:43.148319Z",
     "iopub.status.busy": "2023-04-24T21:10:43.146949Z",
     "iopub.status.idle": "2023-04-24T21:10:44.494144Z",
     "shell.execute_reply": "2023-04-24T21:10:44.492183Z"
    },
    "papermill": {
     "duration": 1.377395,
     "end_time": "2023-04-24T21:10:44.497609",
     "exception": false,
     "start_time": "2023-04-24T21:10:43.120214",
     "status": "completed"
    },
    "tags": []
   },
   "outputs": [
    {
     "data": {
      "text/plain": [
       "<seaborn.axisgrid.FacetGrid at 0x727e1e533190>"
      ]
     },
     "execution_count": 14,
     "metadata": {},
     "output_type": "execute_result"
    },
    {
     "data": {
      "image/png": "[encoded data removed]",
      "text/plain": [
       "<Figure size 971.111x600 with 4 Axes>"
      ]
     },
     "metadata": {},
     "output_type": "display_data"
    }
   ],
   "source": [
    "grid = sns.FacetGrid(train_df, col='Sex',row= \"Survived\", aspect=1.6)\n",
    "grid.map(plt.hist, 'Age', alpha=.5, bins=20)\n",
    "grid.add_legend()"
   ]
  },
  {
   "cell_type": "markdown",
   "id": "830c5ea4",
   "metadata": {
    "papermill": {
     "duration": 0.024022,
     "end_time": "2023-04-24T21:10:44.546262",
     "exception": false,
     "start_time": "2023-04-24T21:10:44.522240",
     "status": "completed"
    },
    "tags": []
   },
   "source": [
    "The chart above shows the age distribution by gender and their survival rate.\n"
   ]
  },
  {
   "cell_type": "code",
   "execution_count": 15,
   "id": "a9cbcd10",
   "metadata": {
    "execution": {
     "iopub.execute_input": "2023-04-24T21:10:44.598668Z",
     "iopub.status.busy": "2023-04-24T21:10:44.598013Z",
     "iopub.status.idle": "2023-04-24T21:10:46.386858Z",
     "shell.execute_reply": "2023-04-24T21:10:46.384780Z"
    },
    "papermill": {
     "duration": 1.819413,
     "end_time": "2023-04-24T21:10:46.389770",
     "exception": false,
     "start_time": "2023-04-24T21:10:44.570357",
     "status": "completed"
    },
    "tags": []
   },
   "outputs": [
    {
     "data": {
      "text/plain": [
       "<seaborn.axisgrid.FacetGrid at 0x727e1db794d0>"
      ]
     },
     "execution_count": 15,
     "metadata": {},
     "output_type": "execute_result"
    },
    {
     "data": {
      "image/png": "[encoded data removed]",
      "text/plain": [
       "<Figure size 1032.11x900 with 6 Axes>"
      ]
     },
     "metadata": {},
     "output_type": "display_data"
    }
   ],
   "source": [
    "grid = sns.FacetGrid(train_df, col='Sex',row='Pclass', hue='Survived', aspect=1.6)\n",
    "grid.map(plt.hist, 'Survived', alpha=.8, bins=3)\n",
    "grid.add_legend()"
   ]
  },
  {
   "cell_type": "markdown",
   "id": "152a5eb6",
   "metadata": {
    "papermill": {
     "duration": 0.026425,
     "end_time": "2023-04-24T21:10:46.440488",
     "exception": false,
     "start_time": "2023-04-24T21:10:46.414063",
     "status": "completed"
    },
    "tags": []
   },
   "source": [
    "Survival rate of males increased with an increase in their class.\\\n",
    "Almost all women in the First class section survived with an even distribution of females in th 3rd class survived."
   ]
  },
  {
   "cell_type": "code",
   "execution_count": 16,
   "id": "180ea13f",
   "metadata": {
    "execution": {
     "iopub.execute_input": "2023-04-24T21:10:46.495861Z",
     "iopub.status.busy": "2023-04-24T21:10:46.494549Z",
     "iopub.status.idle": "2023-04-24T21:10:46.517198Z",
     "shell.execute_reply": "2023-04-24T21:10:46.515015Z"
    },
    "papermill": {
     "duration": 0.053192,
     "end_time": "2023-04-24T21:10:46.520504",
     "exception": false,
     "start_time": "2023-04-24T21:10:46.467312",
     "status": "completed"
    },
    "tags": []
   },
   "outputs": [
    {
     "data": {
      "text/html": [
       "<div>\n",
       "<style scoped>\n",
       "    .dataframe tbody tr th:only-of-type {\n",
       "        vertical-align: middle;\n",
       "    }\n",
       "\n",
       "    .dataframe tbody tr th {\n",
       "        vertical-align: top;\n",
       "    }\n",
       "\n",
       "    .dataframe thead th {\n",
       "        text-align: right;\n",
       "    }\n",
       "</style>\n",
       "<table border=\"1\" class=\"dataframe\">\n",
       "  <thead>\n",
       "    <tr style=\"text-align: right;\">\n",
       "      <th></th>\n",
       "      <th>Parch</th>\n",
       "      <th>Survived</th>\n",
       "    </tr>\n",
       "  </thead>\n",
       "  <tbody>\n",
       "    <tr>\n",
       "      <th>3</th>\n",
       "      <td>3</td>\n",
       "      <td>0.600000</td>\n",
       "    </tr>\n",
       "    <tr>\n",
       "      <th>1</th>\n",
       "      <td>1</td>\n",
       "      <td>0.550847</td>\n",
       "    </tr>\n",
       "    <tr>\n",
       "      <th>2</th>\n",
       "      <td>2</td>\n",
       "      <td>0.500000</td>\n",
       "    </tr>\n",
       "    <tr>\n",
       "      <th>0</th>\n",
       "      <td>0</td>\n",
       "      <td>0.343658</td>\n",
       "    </tr>\n",
       "    <tr>\n",
       "      <th>5</th>\n",
       "      <td>5</td>\n",
       "      <td>0.200000</td>\n",
       "    </tr>\n",
       "    <tr>\n",
       "      <th>4</th>\n",
       "      <td>4</td>\n",
       "      <td>0.000000</td>\n",
       "    </tr>\n",
       "    <tr>\n",
       "      <th>6</th>\n",
       "      <td>6</td>\n",
       "      <td>0.000000</td>\n",
       "    </tr>\n",
       "  </tbody>\n",
       "</table>\n",
       "</div>"
      ],
      "text/plain": [
       "   Parch  Survived\n",
       "3      3  0.600000\n",
       "1      1  0.550847\n",
       "2      2  0.500000\n",
       "0      0  0.343658\n",
       "5      5  0.200000\n",
       "4      4  0.000000\n",
       "6      6  0.000000"
      ]
     },
     "execution_count": 16,
     "metadata": {},
     "output_type": "execute_result"
    }
   ],
   "source": [
    "train_df[[\"Parch\", \"Survived\"]].groupby(['Parch'], as_index=False).mean().sort_values(by='Survived', ascending=False)"
   ]
  },
  {
   "cell_type": "markdown",
   "id": "e0ec8b3b",
   "metadata": {
    "papermill": {
     "duration": 0.027334,
     "end_time": "2023-04-24T21:10:46.573817",
     "exception": false,
     "start_time": "2023-04-24T21:10:46.546483",
     "status": "completed"
    },
    "tags": []
   },
   "source": []
  },
  {
   "cell_type": "code",
   "execution_count": 17,
   "id": "00bab40c",
   "metadata": {
    "execution": {
     "iopub.execute_input": "2023-04-24T21:10:46.628348Z",
     "iopub.status.busy": "2023-04-24T21:10:46.627806Z",
     "iopub.status.idle": "2023-04-24T21:10:46.946272Z",
     "shell.execute_reply": "2023-04-24T21:10:46.944844Z"
    },
    "papermill": {
     "duration": 0.348667,
     "end_time": "2023-04-24T21:10:46.949229",
     "exception": false,
     "start_time": "2023-04-24T21:10:46.600562",
     "status": "completed"
    },
    "tags": []
   },
   "outputs": [
    {
     "data": {
      "image/png": "[encoded data removed]",
      "text/plain": [
       "<Figure size 640x480 with 1 Axes>"
      ]
     },
     "metadata": {},
     "output_type": "display_data"
    }
   ],
   "source": [
    "axis = sns.countplot(x = \"Parch\", hue = \"Survived\", palette = \"Set1\", data = train_df )\n",
    "axis.set(title = \"Number of individuals that survived by the number of parents or child they had on board\", xlabel = \"Parch\",ylabel = \"No.of People\")\n",
    "plt.show()"
   ]
  },
  {
   "cell_type": "markdown",
   "id": "79fce252",
   "metadata": {
    "papermill": {
     "duration": 0.026701,
     "end_time": "2023-04-24T21:10:47.001671",
     "exception": false,
     "start_time": "2023-04-24T21:10:46.974970",
     "status": "completed"
    },
    "tags": []
   },
   "source": [
    "Review shows individuals with 3 parents/children relationship had a higher chance of survival. \\\n",
    "However, more individuals with no parent child relationship survived.\n"
   ]
  },
  {
   "cell_type": "code",
   "execution_count": 18,
   "id": "2b71ac57",
   "metadata": {
    "execution": {
     "iopub.execute_input": "2023-04-24T21:10:47.053857Z",
     "iopub.status.busy": "2023-04-24T21:10:47.053027Z",
     "iopub.status.idle": "2023-04-24T21:10:47.071401Z",
     "shell.execute_reply": "2023-04-24T21:10:47.070175Z"
    },
    "papermill": {
     "duration": 0.047965,
     "end_time": "2023-04-24T21:10:47.074330",
     "exception": false,
     "start_time": "2023-04-24T21:10:47.026365",
     "status": "completed"
    },
    "tags": []
   },
   "outputs": [
    {
     "data": {
      "text/html": [
       "<div>\n",
       "<style scoped>\n",
       "    .dataframe tbody tr th:only-of-type {\n",
       "        vertical-align: middle;\n",
       "    }\n",
       "\n",
       "    .dataframe tbody tr th {\n",
       "        vertical-align: top;\n",
       "    }\n",
       "\n",
       "    .dataframe thead th {\n",
       "        text-align: right;\n",
       "    }\n",
       "</style>\n",
       "<table border=\"1\" class=\"dataframe\">\n",
       "  <thead>\n",
       "    <tr style=\"text-align: right;\">\n",
       "      <th></th>\n",
       "      <th>SibSp</th>\n",
       "      <th>Survived</th>\n",
       "    </tr>\n",
       "  </thead>\n",
       "  <tbody>\n",
       "    <tr>\n",
       "      <th>1</th>\n",
       "      <td>1</td>\n",
       "      <td>0.535885</td>\n",
       "    </tr>\n",
       "    <tr>\n",
       "      <th>2</th>\n",
       "      <td>2</td>\n",
       "      <td>0.464286</td>\n",
       "    </tr>\n",
       "    <tr>\n",
       "      <th>0</th>\n",
       "      <td>0</td>\n",
       "      <td>0.345395</td>\n",
       "    </tr>\n",
       "    <tr>\n",
       "      <th>3</th>\n",
       "      <td>3</td>\n",
       "      <td>0.250000</td>\n",
       "    </tr>\n",
       "    <tr>\n",
       "      <th>4</th>\n",
       "      <td>4</td>\n",
       "      <td>0.166667</td>\n",
       "    </tr>\n",
       "    <tr>\n",
       "      <th>5</th>\n",
       "      <td>5</td>\n",
       "      <td>0.000000</td>\n",
       "    </tr>\n",
       "    <tr>\n",
       "      <th>6</th>\n",
       "      <td>8</td>\n",
       "      <td>0.000000</td>\n",
       "    </tr>\n",
       "  </tbody>\n",
       "</table>\n",
       "</div>"
      ],
      "text/plain": [
       "   SibSp  Survived\n",
       "1      1  0.535885\n",
       "2      2  0.464286\n",
       "0      0  0.345395\n",
       "3      3  0.250000\n",
       "4      4  0.166667\n",
       "5      5  0.000000\n",
       "6      8  0.000000"
      ]
     },
     "execution_count": 18,
     "metadata": {},
     "output_type": "execute_result"
    }
   ],
   "source": [
    "train_df[[\"SibSp\", \"Survived\"]].groupby(['SibSp'], as_index=False).mean().sort_values(by='Survived', ascending=False)"
   ]
  },
  {
   "cell_type": "code",
   "execution_count": 19,
   "id": "23344dcb",
   "metadata": {
    "execution": {
     "iopub.execute_input": "2023-04-24T21:10:47.129867Z",
     "iopub.status.busy": "2023-04-24T21:10:47.129436Z",
     "iopub.status.idle": "2023-04-24T21:10:47.456755Z",
     "shell.execute_reply": "2023-04-24T21:10:47.454794Z"
    },
    "papermill": {
     "duration": 0.359447,
     "end_time": "2023-04-24T21:10:47.460326",
     "exception": false,
     "start_time": "2023-04-24T21:10:47.100879",
     "status": "completed"
    },
    "tags": []
   },
   "outputs": [
    {
     "data": {
      "image/png": "[encoded data removed]",
      "text/plain": [
       "<Figure size 640x480 with 1 Axes>"
      ]
     },
     "metadata": {},
     "output_type": "display_data"
    }
   ],
   "source": [
    "axis = sns.countplot(x = \"SibSp\", hue = \"Survived\", palette = \"Set1\", data = train_df )\n",
    "axis.set(title = \"Number of individuals that survived by the number of Siblings or spouses Present on board\", xlabel = \"SibSp\",ylabel = \"No.of People\")\n",
    "plt.show()"
   ]
  },
  {
   "cell_type": "markdown",
   "id": "f90d7a95",
   "metadata": {
    "papermill": {
     "duration": 0.027157,
     "end_time": "2023-04-24T21:10:47.513982",
     "exception": false,
     "start_time": "2023-04-24T21:10:47.486825",
     "status": "completed"
    },
    "tags": []
   },
   "source": [
    "With a review of the chart, having just one sibling increased your chances of survival.\\\n",
    "Individuals with over 4 siblings had the least chance for survival."
   ]
  },
  {
   "cell_type": "code",
   "execution_count": 20,
   "id": "bcaf0248",
   "metadata": {
    "execution": {
     "iopub.execute_input": "2023-04-24T21:10:47.570134Z",
     "iopub.status.busy": "2023-04-24T21:10:47.568817Z",
     "iopub.status.idle": "2023-04-24T21:10:47.587837Z",
     "shell.execute_reply": "2023-04-24T21:10:47.586459Z"
    },
    "papermill": {
     "duration": 0.050219,
     "end_time": "2023-04-24T21:10:47.590531",
     "exception": false,
     "start_time": "2023-04-24T21:10:47.540312",
     "status": "completed"
    },
    "tags": []
   },
   "outputs": [
    {
     "data": {
      "text/html": [
       "<div>\n",
       "<style scoped>\n",
       "    .dataframe tbody tr th:only-of-type {\n",
       "        vertical-align: middle;\n",
       "    }\n",
       "\n",
       "    .dataframe tbody tr th {\n",
       "        vertical-align: top;\n",
       "    }\n",
       "\n",
       "    .dataframe thead th {\n",
       "        text-align: right;\n",
       "    }\n",
       "</style>\n",
       "<table border=\"1\" class=\"dataframe\">\n",
       "  <thead>\n",
       "    <tr style=\"text-align: right;\">\n",
       "      <th></th>\n",
       "      <th>Embarked</th>\n",
       "      <th>Survived</th>\n",
       "    </tr>\n",
       "  </thead>\n",
       "  <tbody>\n",
       "    <tr>\n",
       "      <th>0</th>\n",
       "      <td>C</td>\n",
       "      <td>0.553571</td>\n",
       "    </tr>\n",
       "    <tr>\n",
       "      <th>1</th>\n",
       "      <td>Q</td>\n",
       "      <td>0.389610</td>\n",
       "    </tr>\n",
       "    <tr>\n",
       "      <th>2</th>\n",
       "      <td>S</td>\n",
       "      <td>0.336957</td>\n",
       "    </tr>\n",
       "  </tbody>\n",
       "</table>\n",
       "</div>"
      ],
      "text/plain": [
       "  Embarked  Survived\n",
       "0        C  0.553571\n",
       "1        Q  0.389610\n",
       "2        S  0.336957"
      ]
     },
     "execution_count": 20,
     "metadata": {},
     "output_type": "execute_result"
    }
   ],
   "source": [
    "train_df[[\"Embarked\", \"Survived\"]].groupby(['Embarked'], as_index=False).mean().sort_values(by='Survived', ascending=False)"
   ]
  },
  {
   "cell_type": "code",
   "execution_count": 21,
   "id": "38c3082d",
   "metadata": {
    "execution": {
     "iopub.execute_input": "2023-04-24T21:10:47.646206Z",
     "iopub.status.busy": "2023-04-24T21:10:47.645707Z",
     "iopub.status.idle": "2023-04-24T21:10:47.917473Z",
     "shell.execute_reply": "2023-04-24T21:10:47.916370Z"
    },
    "papermill": {
     "duration": 0.302334,
     "end_time": "2023-04-24T21:10:47.920242",
     "exception": false,
     "start_time": "2023-04-24T21:10:47.617908",
     "status": "completed"
    },
    "tags": []
   },
   "outputs": [
    {
     "data": {
      "image/png": "[encoded data removed]",
      "text/plain": [
       "<Figure size 640x480 with 1 Axes>"
      ]
     },
     "metadata": {},
     "output_type": "display_data"
    }
   ],
   "source": [
    "axis = sns.countplot(x = \"Embarked\", hue = \"Survived\", palette = \"Set1\", data = train_df )\n",
    "axis.set(title = \"No. of People Vs Embarked\", xlabel = \"Embarked\",ylabel = \"No.of People\")\n",
    "plt.show()"
   ]
  },
  {
   "cell_type": "markdown",
   "id": "2794a081",
   "metadata": {
    "papermill": {
     "duration": 0.028625,
     "end_time": "2023-04-24T21:10:47.977826",
     "exception": false,
     "start_time": "2023-04-24T21:10:47.949201",
     "status": "completed"
    },
    "tags": []
   },
   "source": [
    "## Data Wrangling"
   ]
  },
  {
   "cell_type": "code",
   "execution_count": 22,
   "id": "f6b3322f",
   "metadata": {
    "execution": {
     "iopub.execute_input": "2023-04-24T21:10:48.034649Z",
     "iopub.status.busy": "2023-04-24T21:10:48.033904Z",
     "iopub.status.idle": "2023-04-24T21:10:48.039868Z",
     "shell.execute_reply": "2023-04-24T21:10:48.038382Z"
    },
    "papermill": {
     "duration": 0.038899,
     "end_time": "2023-04-24T21:10:48.043364",
     "exception": false,
     "start_time": "2023-04-24T21:10:48.004465",
     "status": "completed"
    },
    "tags": []
   },
   "outputs": [],
   "source": [
    "combine = [train_df, test_df]"
   ]
  },
  {
   "cell_type": "code",
   "execution_count": 23,
   "id": "d9af2586",
   "metadata": {
    "execution": {
     "iopub.execute_input": "2023-04-24T21:10:48.099200Z",
     "iopub.status.busy": "2023-04-24T21:10:48.098644Z",
     "iopub.status.idle": "2023-04-24T21:10:48.135981Z",
     "shell.execute_reply": "2023-04-24T21:10:48.134799Z"
    },
    "papermill": {
     "duration": 0.069249,
     "end_time": "2023-04-24T21:10:48.139203",
     "exception": false,
     "start_time": "2023-04-24T21:10:48.069954",
     "status": "completed"
    },
    "tags": []
   },
   "outputs": [
    {
     "data": {
      "text/html": [
       "<div>\n",
       "<style scoped>\n",
       "    .dataframe tbody tr th:only-of-type {\n",
       "        vertical-align: middle;\n",
       "    }\n",
       "\n",
       "    .dataframe tbody tr th {\n",
       "        vertical-align: top;\n",
       "    }\n",
       "\n",
       "    .dataframe thead th {\n",
       "        text-align: right;\n",
       "    }\n",
       "</style>\n",
       "<table border=\"1\" class=\"dataframe\">\n",
       "  <thead>\n",
       "    <tr style=\"text-align: right;\">\n",
       "      <th>Sex</th>\n",
       "      <th>female</th>\n",
       "      <th>male</th>\n",
       "    </tr>\n",
       "    <tr>\n",
       "      <th>Title</th>\n",
       "      <th></th>\n",
       "      <th></th>\n",
       "    </tr>\n",
       "  </thead>\n",
       "  <tbody>\n",
       "    <tr>\n",
       "      <th>Capt</th>\n",
       "      <td>0</td>\n",
       "      <td>1</td>\n",
       "    </tr>\n",
       "    <tr>\n",
       "      <th>Col</th>\n",
       "      <td>0</td>\n",
       "      <td>2</td>\n",
       "    </tr>\n",
       "    <tr>\n",
       "      <th>Countess</th>\n",
       "      <td>1</td>\n",
       "      <td>0</td>\n",
       "    </tr>\n",
       "    <tr>\n",
       "      <th>Don</th>\n",
       "      <td>0</td>\n",
       "      <td>1</td>\n",
       "    </tr>\n",
       "    <tr>\n",
       "      <th>Dr</th>\n",
       "      <td>1</td>\n",
       "      <td>6</td>\n",
       "    </tr>\n",
       "    <tr>\n",
       "      <th>Jonkheer</th>\n",
       "      <td>0</td>\n",
       "      <td>1</td>\n",
       "    </tr>\n",
       "    <tr>\n",
       "      <th>Lady</th>\n",
       "      <td>1</td>\n",
       "      <td>0</td>\n",
       "    </tr>\n",
       "    <tr>\n",
       "      <th>Major</th>\n",
       "      <td>0</td>\n",
       "      <td>2</td>\n",
       "    </tr>\n",
       "    <tr>\n",
       "      <th>Master</th>\n",
       "      <td>0</td>\n",
       "      <td>40</td>\n",
       "    </tr>\n",
       "    <tr>\n",
       "      <th>Miss</th>\n",
       "      <td>182</td>\n",
       "      <td>0</td>\n",
       "    </tr>\n",
       "    <tr>\n",
       "      <th>Mlle</th>\n",
       "      <td>2</td>\n",
       "      <td>0</td>\n",
       "    </tr>\n",
       "    <tr>\n",
       "      <th>Mme</th>\n",
       "      <td>1</td>\n",
       "      <td>0</td>\n",
       "    </tr>\n",
       "    <tr>\n",
       "      <th>Mr</th>\n",
       "      <td>0</td>\n",
       "      <td>517</td>\n",
       "    </tr>\n",
       "    <tr>\n",
       "      <th>Mrs</th>\n",
       "      <td>125</td>\n",
       "      <td>0</td>\n",
       "    </tr>\n",
       "    <tr>\n",
       "      <th>Ms</th>\n",
       "      <td>1</td>\n",
       "      <td>0</td>\n",
       "    </tr>\n",
       "    <tr>\n",
       "      <th>Rev</th>\n",
       "      <td>0</td>\n",
       "      <td>6</td>\n",
       "    </tr>\n",
       "    <tr>\n",
       "      <th>Sir</th>\n",
       "      <td>0</td>\n",
       "      <td>1</td>\n",
       "    </tr>\n",
       "  </tbody>\n",
       "</table>\n",
       "</div>"
      ],
      "text/plain": [
       "Sex       female  male\n",
       "Title                 \n",
       "Capt           0     1\n",
       "Col            0     2\n",
       "Countess       1     0\n",
       "Don            0     1\n",
       "Dr             1     6\n",
       "Jonkheer       0     1\n",
       "Lady           1     0\n",
       "Major          0     2\n",
       "Master         0    40\n",
       "Miss         182     0\n",
       "Mlle           2     0\n",
       "Mme            1     0\n",
       "Mr             0   517\n",
       "Mrs          125     0\n",
       "Ms             1     0\n",
       "Rev            0     6\n",
       "Sir            0     1"
      ]
     },
     "execution_count": 23,
     "metadata": {},
     "output_type": "execute_result"
    }
   ],
   "source": [
    "for dataset in combine:\n",
    "    dataset['Title'] = dataset.Name.str.extract(' ([A-Za-z]+)\\.', expand=False)\n",
    "\n",
    "pd.crosstab(train_df['Title'], train_df['Sex'])"
   ]
  },
  {
   "cell_type": "markdown",
   "id": "4dad1650",
   "metadata": {
    "papermill": {
     "duration": 0.028912,
     "end_time": "2023-04-24T21:10:48.196479",
     "exception": false,
     "start_time": "2023-04-24T21:10:48.167567",
     "status": "completed"
    },
    "tags": []
   },
   "source": [
    "##### Encoding the column Titles"
   ]
  },
  {
   "cell_type": "code",
   "execution_count": 24,
   "id": "2ea7e90b",
   "metadata": {
    "execution": {
     "iopub.execute_input": "2023-04-24T21:10:48.255012Z",
     "iopub.status.busy": "2023-04-24T21:10:48.254455Z",
     "iopub.status.idle": "2023-04-24T21:10:48.282972Z",
     "shell.execute_reply": "2023-04-24T21:10:48.280728Z"
    },
    "papermill": {
     "duration": 0.061895,
     "end_time": "2023-04-24T21:10:48.286302",
     "exception": false,
     "start_time": "2023-04-24T21:10:48.224407",
     "status": "completed"
    },
    "tags": []
   },
   "outputs": [
    {
     "data": {
      "text/html": [
       "<div>\n",
       "<style scoped>\n",
       "    .dataframe tbody tr th:only-of-type {\n",
       "        vertical-align: middle;\n",
       "    }\n",
       "\n",
       "    .dataframe tbody tr th {\n",
       "        vertical-align: top;\n",
       "    }\n",
       "\n",
       "    .dataframe thead th {\n",
       "        text-align: right;\n",
       "    }\n",
       "</style>\n",
       "<table border=\"1\" class=\"dataframe\">\n",
       "  <thead>\n",
       "    <tr style=\"text-align: right;\">\n",
       "      <th></th>\n",
       "      <th>Title</th>\n",
       "      <th>Survived</th>\n",
       "    </tr>\n",
       "  </thead>\n",
       "  <tbody>\n",
       "    <tr>\n",
       "      <th>0</th>\n",
       "      <td>Master</td>\n",
       "      <td>0.575000</td>\n",
       "    </tr>\n",
       "    <tr>\n",
       "      <th>1</th>\n",
       "      <td>Miss</td>\n",
       "      <td>0.702703</td>\n",
       "    </tr>\n",
       "    <tr>\n",
       "      <th>2</th>\n",
       "      <td>Mr</td>\n",
       "      <td>0.156673</td>\n",
       "    </tr>\n",
       "    <tr>\n",
       "      <th>3</th>\n",
       "      <td>Mrs</td>\n",
       "      <td>0.793651</td>\n",
       "    </tr>\n",
       "    <tr>\n",
       "      <th>4</th>\n",
       "      <td>Rare</td>\n",
       "      <td>0.347826</td>\n",
       "    </tr>\n",
       "  </tbody>\n",
       "</table>\n",
       "</div>"
      ],
      "text/plain": [
       "    Title  Survived\n",
       "0  Master  0.575000\n",
       "1    Miss  0.702703\n",
       "2      Mr  0.156673\n",
       "3     Mrs  0.793651\n",
       "4    Rare  0.347826"
      ]
     },
     "execution_count": 24,
     "metadata": {},
     "output_type": "execute_result"
    }
   ],
   "source": [
    "for dataset in combine:\n",
    "    dataset['Title'] = dataset['Title'].replace(['Lady', 'Countess','Capt', 'Col',\\\n",
    " \t'Don', 'Dr', 'Major', 'Rev', 'Sir', 'Jonkheer', 'Dona'], 'Rare')\n",
    "\n",
    "    dataset['Title'] = dataset['Title'].replace('Mlle', 'Miss')\n",
    "    dataset['Title'] = dataset['Title'].replace('Ms', 'Miss')\n",
    "    dataset['Title'] = dataset['Title'].replace('Mme', 'Mrs')\n",
    "    \n",
    "train_df[['Title', 'Survived']].groupby(['Title'], as_index=False).mean()"
   ]
  },
  {
   "cell_type": "code",
   "execution_count": 25,
   "id": "e6ca4b48",
   "metadata": {
    "execution": {
     "iopub.execute_input": "2023-04-24T21:10:48.345748Z",
     "iopub.status.busy": "2023-04-24T21:10:48.345312Z",
     "iopub.status.idle": "2023-04-24T21:10:48.372834Z",
     "shell.execute_reply": "2023-04-24T21:10:48.371050Z"
    },
    "papermill": {
     "duration": 0.062312,
     "end_time": "2023-04-24T21:10:48.376042",
     "exception": false,
     "start_time": "2023-04-24T21:10:48.313730",
     "status": "completed"
    },
    "tags": []
   },
   "outputs": [
    {
     "data": {
      "text/html": [
       "<div>\n",
       "<style scoped>\n",
       "    .dataframe tbody tr th:only-of-type {\n",
       "        vertical-align: middle;\n",
       "    }\n",
       "\n",
       "    .dataframe tbody tr th {\n",
       "        vertical-align: top;\n",
       "    }\n",
       "\n",
       "    .dataframe thead th {\n",
       "        text-align: right;\n",
       "    }\n",
       "</style>\n",
       "<table border=\"1\" class=\"dataframe\">\n",
       "  <thead>\n",
       "    <tr style=\"text-align: right;\">\n",
       "      <th></th>\n",
       "      <th>PassengerId</th>\n",
       "      <th>Survived</th>\n",
       "      <th>Pclass</th>\n",
       "      <th>Name</th>\n",
       "      <th>Sex</th>\n",
       "      <th>Age</th>\n",
       "      <th>SibSp</th>\n",
       "      <th>Parch</th>\n",
       "      <th>Ticket</th>\n",
       "      <th>Fare</th>\n",
       "      <th>Cabin</th>\n",
       "      <th>Embarked</th>\n",
       "      <th>Title</th>\n",
       "    </tr>\n",
       "  </thead>\n",
       "  <tbody>\n",
       "    <tr>\n",
       "      <th>0</th>\n",
       "      <td>1</td>\n",
       "      <td>0</td>\n",
       "      <td>3</td>\n",
       "      <td>Braund, Mr. Owen Harris</td>\n",
       "      <td>male</td>\n",
       "      <td>22.0</td>\n",
       "      <td>1</td>\n",
       "      <td>0</td>\n",
       "      <td>A/5 21171</td>\n",
       "      <td>7.2500</td>\n",
       "      <td>NaN</td>\n",
       "      <td>S</td>\n",
       "      <td>1</td>\n",
       "    </tr>\n",
       "    <tr>\n",
       "      <th>1</th>\n",
       "      <td>2</td>\n",
       "      <td>1</td>\n",
       "      <td>1</td>\n",
       "      <td>Cumings, Mrs. John Bradley (Florence Briggs Th...</td>\n",
       "      <td>female</td>\n",
       "      <td>38.0</td>\n",
       "      <td>1</td>\n",
       "      <td>0</td>\n",
       "      <td>PC 17599</td>\n",
       "      <td>71.2833</td>\n",
       "      <td>C85</td>\n",
       "      <td>C</td>\n",
       "      <td>3</td>\n",
       "    </tr>\n",
       "    <tr>\n",
       "      <th>2</th>\n",
       "      <td>3</td>\n",
       "      <td>1</td>\n",
       "      <td>3</td>\n",
       "      <td>Heikkinen, Miss. Laina</td>\n",
       "      <td>female</td>\n",
       "      <td>26.0</td>\n",
       "      <td>0</td>\n",
       "      <td>0</td>\n",
       "      <td>STON/O2. 3101282</td>\n",
       "      <td>7.9250</td>\n",
       "      <td>NaN</td>\n",
       "      <td>S</td>\n",
       "      <td>2</td>\n",
       "    </tr>\n",
       "    <tr>\n",
       "      <th>3</th>\n",
       "      <td>4</td>\n",
       "      <td>1</td>\n",
       "      <td>1</td>\n",
       "      <td>Futrelle, Mrs. Jacques Heath (Lily May Peel)</td>\n",
       "      <td>female</td>\n",
       "      <td>35.0</td>\n",
       "      <td>1</td>\n",
       "      <td>0</td>\n",
       "      <td>113803</td>\n",
       "      <td>53.1000</td>\n",
       "      <td>C123</td>\n",
       "      <td>S</td>\n",
       "      <td>3</td>\n",
       "    </tr>\n",
       "    <tr>\n",
       "      <th>4</th>\n",
       "      <td>5</td>\n",
       "      <td>0</td>\n",
       "      <td>3</td>\n",
       "      <td>Allen, Mr. William Henry</td>\n",
       "      <td>male</td>\n",
       "      <td>35.0</td>\n",
       "      <td>0</td>\n",
       "      <td>0</td>\n",
       "      <td>373450</td>\n",
       "      <td>8.0500</td>\n",
       "      <td>NaN</td>\n",
       "      <td>S</td>\n",
       "      <td>1</td>\n",
       "    </tr>\n",
       "  </tbody>\n",
       "</table>\n",
       "</div>"
      ],
      "text/plain": [
       "   PassengerId  Survived  Pclass  \\\n",
       "0            1         0       3   \n",
       "1            2         1       1   \n",
       "2            3         1       3   \n",
       "3            4         1       1   \n",
       "4            5         0       3   \n",
       "\n",
       "                                                Name     Sex   Age  SibSp  \\\n",
       "0                            Braund, Mr. Owen Harris    male  22.0      1   \n",
       "1  Cumings, Mrs. John Bradley (Florence Briggs Th...  female  38.0      1   \n",
       "2                             Heikkinen, Miss. Laina  female  26.0      0   \n",
       "3       Futrelle, Mrs. Jacques Heath (Lily May Peel)  female  35.0      1   \n",
       "4                           Allen, Mr. William Henry    male  35.0      0   \n",
       "\n",
       "   Parch            Ticket     Fare Cabin Embarked  Title  \n",
       "0      0         A/5 21171   7.2500   NaN        S      1  \n",
       "1      0          PC 17599  71.2833   C85        C      3  \n",
       "2      0  STON/O2. 3101282   7.9250   NaN        S      2  \n",
       "3      0            113803  53.1000  C123        S      3  \n",
       "4      0            373450   8.0500   NaN        S      1  "
      ]
     },
     "execution_count": 25,
     "metadata": {},
     "output_type": "execute_result"
    }
   ],
   "source": [
    "title_mapping = {\"Mr\": 1, \"Miss\": 2, \"Mrs\": 3, \"Master\": 4, \"Rare\": 5}\n",
    "for dataset in combine:\n",
    "    dataset['Title'] = dataset['Title'].map(title_mapping)\n",
    "    dataset['Title'] = dataset['Title'].fillna(0)\n",
    "\n",
    "train_df.head()"
   ]
  },
  {
   "cell_type": "code",
   "execution_count": 26,
   "id": "afba7573",
   "metadata": {
    "execution": {
     "iopub.execute_input": "2023-04-24T21:10:48.435744Z",
     "iopub.status.busy": "2023-04-24T21:10:48.435204Z",
     "iopub.status.idle": "2023-04-24T21:10:48.457769Z",
     "shell.execute_reply": "2023-04-24T21:10:48.456032Z"
    },
    "papermill": {
     "duration": 0.05652,
     "end_time": "2023-04-24T21:10:48.461178",
     "exception": false,
     "start_time": "2023-04-24T21:10:48.404658",
     "status": "completed"
    },
    "tags": []
   },
   "outputs": [
    {
     "data": {
      "text/html": [
       "<div>\n",
       "<style scoped>\n",
       "    .dataframe tbody tr th:only-of-type {\n",
       "        vertical-align: middle;\n",
       "    }\n",
       "\n",
       "    .dataframe tbody tr th {\n",
       "        vertical-align: top;\n",
       "    }\n",
       "\n",
       "    .dataframe thead th {\n",
       "        text-align: right;\n",
       "    }\n",
       "</style>\n",
       "<table border=\"1\" class=\"dataframe\">\n",
       "  <thead>\n",
       "    <tr style=\"text-align: right;\">\n",
       "      <th></th>\n",
       "      <th>PassengerId</th>\n",
       "      <th>Pclass</th>\n",
       "      <th>Name</th>\n",
       "      <th>Sex</th>\n",
       "      <th>Age</th>\n",
       "      <th>SibSp</th>\n",
       "      <th>Parch</th>\n",
       "      <th>Ticket</th>\n",
       "      <th>Fare</th>\n",
       "      <th>Cabin</th>\n",
       "      <th>Embarked</th>\n",
       "      <th>Title</th>\n",
       "    </tr>\n",
       "  </thead>\n",
       "  <tbody>\n",
       "    <tr>\n",
       "      <th>0</th>\n",
       "      <td>892</td>\n",
       "      <td>3</td>\n",
       "      <td>Kelly, Mr. James</td>\n",
       "      <td>male</td>\n",
       "      <td>34.5</td>\n",
       "      <td>0</td>\n",
       "      <td>0</td>\n",
       "      <td>330911</td>\n",
       "      <td>7.8292</td>\n",
       "      <td>NaN</td>\n",
       "      <td>Q</td>\n",
       "      <td>1</td>\n",
       "    </tr>\n",
       "    <tr>\n",
       "      <th>1</th>\n",
       "      <td>893</td>\n",
       "      <td>3</td>\n",
       "      <td>Wilkes, Mrs. James (Ellen Needs)</td>\n",
       "      <td>female</td>\n",
       "      <td>47.0</td>\n",
       "      <td>1</td>\n",
       "      <td>0</td>\n",
       "      <td>363272</td>\n",
       "      <td>7.0000</td>\n",
       "      <td>NaN</td>\n",
       "      <td>S</td>\n",
       "      <td>3</td>\n",
       "    </tr>\n",
       "    <tr>\n",
       "      <th>2</th>\n",
       "      <td>894</td>\n",
       "      <td>2</td>\n",
       "      <td>Myles, Mr. Thomas Francis</td>\n",
       "      <td>male</td>\n",
       "      <td>62.0</td>\n",
       "      <td>0</td>\n",
       "      <td>0</td>\n",
       "      <td>240276</td>\n",
       "      <td>9.6875</td>\n",
       "      <td>NaN</td>\n",
       "      <td>Q</td>\n",
       "      <td>1</td>\n",
       "    </tr>\n",
       "    <tr>\n",
       "      <th>3</th>\n",
       "      <td>895</td>\n",
       "      <td>3</td>\n",
       "      <td>Wirz, Mr. Albert</td>\n",
       "      <td>male</td>\n",
       "      <td>27.0</td>\n",
       "      <td>0</td>\n",
       "      <td>0</td>\n",
       "      <td>315154</td>\n",
       "      <td>8.6625</td>\n",
       "      <td>NaN</td>\n",
       "      <td>S</td>\n",
       "      <td>1</td>\n",
       "    </tr>\n",
       "    <tr>\n",
       "      <th>4</th>\n",
       "      <td>896</td>\n",
       "      <td>3</td>\n",
       "      <td>Hirvonen, Mrs. Alexander (Helga E Lindqvist)</td>\n",
       "      <td>female</td>\n",
       "      <td>22.0</td>\n",
       "      <td>1</td>\n",
       "      <td>1</td>\n",
       "      <td>3101298</td>\n",
       "      <td>12.2875</td>\n",
       "      <td>NaN</td>\n",
       "      <td>S</td>\n",
       "      <td>3</td>\n",
       "    </tr>\n",
       "  </tbody>\n",
       "</table>\n",
       "</div>"
      ],
      "text/plain": [
       "   PassengerId  Pclass                                          Name     Sex  \\\n",
       "0          892       3                              Kelly, Mr. James    male   \n",
       "1          893       3              Wilkes, Mrs. James (Ellen Needs)  female   \n",
       "2          894       2                     Myles, Mr. Thomas Francis    male   \n",
       "3          895       3                              Wirz, Mr. Albert    male   \n",
       "4          896       3  Hirvonen, Mrs. Alexander (Helga E Lindqvist)  female   \n",
       "\n",
       "    Age  SibSp  Parch   Ticket     Fare Cabin Embarked  Title  \n",
       "0  34.5      0      0   330911   7.8292   NaN        Q      1  \n",
       "1  47.0      1      0   363272   7.0000   NaN        S      3  \n",
       "2  62.0      0      0   240276   9.6875   NaN        Q      1  \n",
       "3  27.0      0      0   315154   8.6625   NaN        S      1  \n",
       "4  22.0      1      1  3101298  12.2875   NaN        S      3  "
      ]
     },
     "execution_count": 26,
     "metadata": {},
     "output_type": "execute_result"
    }
   ],
   "source": [
    "test_df.head()"
   ]
  },
  {
   "cell_type": "code",
   "execution_count": 27,
   "id": "b4a2b67e",
   "metadata": {
    "execution": {
     "iopub.execute_input": "2023-04-24T21:10:48.518437Z",
     "iopub.status.busy": "2023-04-24T21:10:48.517999Z",
     "iopub.status.idle": "2023-04-24T21:10:48.541052Z",
     "shell.execute_reply": "2023-04-24T21:10:48.539996Z"
    },
    "papermill": {
     "duration": 0.054153,
     "end_time": "2023-04-24T21:10:48.543938",
     "exception": false,
     "start_time": "2023-04-24T21:10:48.489785",
     "status": "completed"
    },
    "tags": []
   },
   "outputs": [
    {
     "data": {
      "text/html": [
       "<div>\n",
       "<style scoped>\n",
       "    .dataframe tbody tr th:only-of-type {\n",
       "        vertical-align: middle;\n",
       "    }\n",
       "\n",
       "    .dataframe tbody tr th {\n",
       "        vertical-align: top;\n",
       "    }\n",
       "\n",
       "    .dataframe thead th {\n",
       "        text-align: right;\n",
       "    }\n",
       "</style>\n",
       "<table border=\"1\" class=\"dataframe\">\n",
       "  <thead>\n",
       "    <tr style=\"text-align: right;\">\n",
       "      <th></th>\n",
       "      <th>PassengerId</th>\n",
       "      <th>Survived</th>\n",
       "      <th>Pclass</th>\n",
       "      <th>Name</th>\n",
       "      <th>Sex</th>\n",
       "      <th>Age</th>\n",
       "      <th>SibSp</th>\n",
       "      <th>Parch</th>\n",
       "      <th>Ticket</th>\n",
       "      <th>Fare</th>\n",
       "      <th>Cabin</th>\n",
       "      <th>Embarked</th>\n",
       "      <th>Title</th>\n",
       "    </tr>\n",
       "  </thead>\n",
       "  <tbody>\n",
       "    <tr>\n",
       "      <th>0</th>\n",
       "      <td>1</td>\n",
       "      <td>0</td>\n",
       "      <td>3</td>\n",
       "      <td>Braund, Mr. Owen Harris</td>\n",
       "      <td>0</td>\n",
       "      <td>22.0</td>\n",
       "      <td>1</td>\n",
       "      <td>0</td>\n",
       "      <td>A/5 21171</td>\n",
       "      <td>7.2500</td>\n",
       "      <td>NaN</td>\n",
       "      <td>S</td>\n",
       "      <td>1</td>\n",
       "    </tr>\n",
       "    <tr>\n",
       "      <th>1</th>\n",
       "      <td>2</td>\n",
       "      <td>1</td>\n",
       "      <td>1</td>\n",
       "      <td>Cumings, Mrs. John Bradley (Florence Briggs Th...</td>\n",
       "      <td>1</td>\n",
       "      <td>38.0</td>\n",
       "      <td>1</td>\n",
       "      <td>0</td>\n",
       "      <td>PC 17599</td>\n",
       "      <td>71.2833</td>\n",
       "      <td>C85</td>\n",
       "      <td>C</td>\n",
       "      <td>3</td>\n",
       "    </tr>\n",
       "    <tr>\n",
       "      <th>2</th>\n",
       "      <td>3</td>\n",
       "      <td>1</td>\n",
       "      <td>3</td>\n",
       "      <td>Heikkinen, Miss. Laina</td>\n",
       "      <td>1</td>\n",
       "      <td>26.0</td>\n",
       "      <td>0</td>\n",
       "      <td>0</td>\n",
       "      <td>STON/O2. 3101282</td>\n",
       "      <td>7.9250</td>\n",
       "      <td>NaN</td>\n",
       "      <td>S</td>\n",
       "      <td>2</td>\n",
       "    </tr>\n",
       "    <tr>\n",
       "      <th>3</th>\n",
       "      <td>4</td>\n",
       "      <td>1</td>\n",
       "      <td>1</td>\n",
       "      <td>Futrelle, Mrs. Jacques Heath (Lily May Peel)</td>\n",
       "      <td>1</td>\n",
       "      <td>35.0</td>\n",
       "      <td>1</td>\n",
       "      <td>0</td>\n",
       "      <td>113803</td>\n",
       "      <td>53.1000</td>\n",
       "      <td>C123</td>\n",
       "      <td>S</td>\n",
       "      <td>3</td>\n",
       "    </tr>\n",
       "    <tr>\n",
       "      <th>4</th>\n",
       "      <td>5</td>\n",
       "      <td>0</td>\n",
       "      <td>3</td>\n",
       "      <td>Allen, Mr. William Henry</td>\n",
       "      <td>0</td>\n",
       "      <td>35.0</td>\n",
       "      <td>0</td>\n",
       "      <td>0</td>\n",
       "      <td>373450</td>\n",
       "      <td>8.0500</td>\n",
       "      <td>NaN</td>\n",
       "      <td>S</td>\n",
       "      <td>1</td>\n",
       "    </tr>\n",
       "  </tbody>\n",
       "</table>\n",
       "</div>"
      ],
      "text/plain": [
       "   PassengerId  Survived  Pclass  \\\n",
       "0            1         0       3   \n",
       "1            2         1       1   \n",
       "2            3         1       3   \n",
       "3            4         1       1   \n",
       "4            5         0       3   \n",
       "\n",
       "                                                Name  Sex   Age  SibSp  Parch  \\\n",
       "0                            Braund, Mr. Owen Harris    0  22.0      1      0   \n",
       "1  Cumings, Mrs. John Bradley (Florence Briggs Th...    1  38.0      1      0   \n",
       "2                             Heikkinen, Miss. Laina    1  26.0      0      0   \n",
       "3       Futrelle, Mrs. Jacques Heath (Lily May Peel)    1  35.0      1      0   \n",
       "4                           Allen, Mr. William Henry    0  35.0      0      0   \n",
       "\n",
       "             Ticket     Fare Cabin Embarked  Title  \n",
       "0         A/5 21171   7.2500   NaN        S      1  \n",
       "1          PC 17599  71.2833   C85        C      3  \n",
       "2  STON/O2. 3101282   7.9250   NaN        S      2  \n",
       "3            113803  53.1000  C123        S      3  \n",
       "4            373450   8.0500   NaN        S      1  "
      ]
     },
     "execution_count": 27,
     "metadata": {},
     "output_type": "execute_result"
    }
   ],
   "source": [
    "for dataset in combine:\n",
    "    dataset['Sex'] = dataset['Sex'].map( {'female': 1, 'male': 0} ).astype(int)\n",
    "\n",
    "train_df.head()"
   ]
  },
  {
   "cell_type": "code",
   "execution_count": 28,
   "id": "ada4cfbb",
   "metadata": {
    "execution": {
     "iopub.execute_input": "2023-04-24T21:10:48.604549Z",
     "iopub.status.busy": "2023-04-24T21:10:48.603591Z",
     "iopub.status.idle": "2023-04-24T21:10:48.621900Z",
     "shell.execute_reply": "2023-04-24T21:10:48.620399Z"
    },
    "papermill": {
     "duration": 0.051115,
     "end_time": "2023-04-24T21:10:48.624869",
     "exception": false,
     "start_time": "2023-04-24T21:10:48.573754",
     "status": "completed"
    },
    "tags": []
   },
   "outputs": [
    {
     "data": {
      "text/html": [
       "<div>\n",
       "<style scoped>\n",
       "    .dataframe tbody tr th:only-of-type {\n",
       "        vertical-align: middle;\n",
       "    }\n",
       "\n",
       "    .dataframe tbody tr th {\n",
       "        vertical-align: top;\n",
       "    }\n",
       "\n",
       "    .dataframe thead th {\n",
       "        text-align: right;\n",
       "    }\n",
       "</style>\n",
       "<table border=\"1\" class=\"dataframe\">\n",
       "  <thead>\n",
       "    <tr style=\"text-align: right;\">\n",
       "      <th></th>\n",
       "      <th>Survived</th>\n",
       "      <th>Pclass</th>\n",
       "      <th>Sex</th>\n",
       "      <th>Age</th>\n",
       "      <th>SibSp</th>\n",
       "      <th>Parch</th>\n",
       "      <th>Fare</th>\n",
       "      <th>Embarked</th>\n",
       "      <th>Title</th>\n",
       "    </tr>\n",
       "  </thead>\n",
       "  <tbody>\n",
       "    <tr>\n",
       "      <th>0</th>\n",
       "      <td>0</td>\n",
       "      <td>3</td>\n",
       "      <td>0</td>\n",
       "      <td>22.0</td>\n",
       "      <td>1</td>\n",
       "      <td>0</td>\n",
       "      <td>7.2500</td>\n",
       "      <td>S</td>\n",
       "      <td>1</td>\n",
       "    </tr>\n",
       "    <tr>\n",
       "      <th>1</th>\n",
       "      <td>1</td>\n",
       "      <td>1</td>\n",
       "      <td>1</td>\n",
       "      <td>38.0</td>\n",
       "      <td>1</td>\n",
       "      <td>0</td>\n",
       "      <td>71.2833</td>\n",
       "      <td>C</td>\n",
       "      <td>3</td>\n",
       "    </tr>\n",
       "    <tr>\n",
       "      <th>2</th>\n",
       "      <td>1</td>\n",
       "      <td>3</td>\n",
       "      <td>1</td>\n",
       "      <td>26.0</td>\n",
       "      <td>0</td>\n",
       "      <td>0</td>\n",
       "      <td>7.9250</td>\n",
       "      <td>S</td>\n",
       "      <td>2</td>\n",
       "    </tr>\n",
       "    <tr>\n",
       "      <th>3</th>\n",
       "      <td>1</td>\n",
       "      <td>1</td>\n",
       "      <td>1</td>\n",
       "      <td>35.0</td>\n",
       "      <td>1</td>\n",
       "      <td>0</td>\n",
       "      <td>53.1000</td>\n",
       "      <td>S</td>\n",
       "      <td>3</td>\n",
       "    </tr>\n",
       "    <tr>\n",
       "      <th>4</th>\n",
       "      <td>0</td>\n",
       "      <td>3</td>\n",
       "      <td>0</td>\n",
       "      <td>35.0</td>\n",
       "      <td>0</td>\n",
       "      <td>0</td>\n",
       "      <td>8.0500</td>\n",
       "      <td>S</td>\n",
       "      <td>1</td>\n",
       "    </tr>\n",
       "  </tbody>\n",
       "</table>\n",
       "</div>"
      ],
      "text/plain": [
       "   Survived  Pclass  Sex   Age  SibSp  Parch     Fare Embarked  Title\n",
       "0         0       3    0  22.0      1      0   7.2500        S      1\n",
       "1         1       1    1  38.0      1      0  71.2833        C      3\n",
       "2         1       3    1  26.0      0      0   7.9250        S      2\n",
       "3         1       1    1  35.0      1      0  53.1000        S      3\n",
       "4         0       3    0  35.0      0      0   8.0500        S      1"
      ]
     },
     "execution_count": 28,
     "metadata": {},
     "output_type": "execute_result"
    }
   ],
   "source": [
    "train_df = train_df.drop(['Ticket','PassengerId', 'Cabin','Name'], axis=1)\n",
    "train_df.head()"
   ]
  },
  {
   "cell_type": "code",
   "execution_count": 29,
   "id": "57d9c539",
   "metadata": {
    "execution": {
     "iopub.execute_input": "2023-04-24T21:10:48.687323Z",
     "iopub.status.busy": "2023-04-24T21:10:48.686708Z",
     "iopub.status.idle": "2023-04-24T21:10:48.706938Z",
     "shell.execute_reply": "2023-04-24T21:10:48.705405Z"
    },
    "papermill": {
     "duration": 0.055317,
     "end_time": "2023-04-24T21:10:48.709727",
     "exception": false,
     "start_time": "2023-04-24T21:10:48.654410",
     "status": "completed"
    },
    "tags": []
   },
   "outputs": [
    {
     "data": {
      "text/html": [
       "<div>\n",
       "<style scoped>\n",
       "    .dataframe tbody tr th:only-of-type {\n",
       "        vertical-align: middle;\n",
       "    }\n",
       "\n",
       "    .dataframe tbody tr th {\n",
       "        vertical-align: top;\n",
       "    }\n",
       "\n",
       "    .dataframe thead th {\n",
       "        text-align: right;\n",
       "    }\n",
       "</style>\n",
       "<table border=\"1\" class=\"dataframe\">\n",
       "  <thead>\n",
       "    <tr style=\"text-align: right;\">\n",
       "      <th></th>\n",
       "      <th>Survived</th>\n",
       "      <th>Pclass</th>\n",
       "      <th>Sex</th>\n",
       "      <th>Age</th>\n",
       "      <th>SibSp</th>\n",
       "      <th>Parch</th>\n",
       "      <th>Fare</th>\n",
       "      <th>Embarked</th>\n",
       "      <th>Title</th>\n",
       "    </tr>\n",
       "  </thead>\n",
       "  <tbody>\n",
       "    <tr>\n",
       "      <th>0</th>\n",
       "      <td>0</td>\n",
       "      <td>3</td>\n",
       "      <td>0</td>\n",
       "      <td>22.0</td>\n",
       "      <td>1</td>\n",
       "      <td>0</td>\n",
       "      <td>7.2500</td>\n",
       "      <td>2</td>\n",
       "      <td>1</td>\n",
       "    </tr>\n",
       "    <tr>\n",
       "      <th>1</th>\n",
       "      <td>1</td>\n",
       "      <td>1</td>\n",
       "      <td>1</td>\n",
       "      <td>38.0</td>\n",
       "      <td>1</td>\n",
       "      <td>0</td>\n",
       "      <td>71.2833</td>\n",
       "      <td>0</td>\n",
       "      <td>3</td>\n",
       "    </tr>\n",
       "    <tr>\n",
       "      <th>2</th>\n",
       "      <td>1</td>\n",
       "      <td>3</td>\n",
       "      <td>1</td>\n",
       "      <td>26.0</td>\n",
       "      <td>0</td>\n",
       "      <td>0</td>\n",
       "      <td>7.9250</td>\n",
       "      <td>2</td>\n",
       "      <td>2</td>\n",
       "    </tr>\n",
       "    <tr>\n",
       "      <th>3</th>\n",
       "      <td>1</td>\n",
       "      <td>1</td>\n",
       "      <td>1</td>\n",
       "      <td>35.0</td>\n",
       "      <td>1</td>\n",
       "      <td>0</td>\n",
       "      <td>53.1000</td>\n",
       "      <td>2</td>\n",
       "      <td>3</td>\n",
       "    </tr>\n",
       "    <tr>\n",
       "      <th>4</th>\n",
       "      <td>0</td>\n",
       "      <td>3</td>\n",
       "      <td>0</td>\n",
       "      <td>35.0</td>\n",
       "      <td>0</td>\n",
       "      <td>0</td>\n",
       "      <td>8.0500</td>\n",
       "      <td>2</td>\n",
       "      <td>1</td>\n",
       "    </tr>\n",
       "  </tbody>\n",
       "</table>\n",
       "</div>"
      ],
      "text/plain": [
       "   Survived  Pclass  Sex   Age  SibSp  Parch     Fare  Embarked  Title\n",
       "0         0       3    0  22.0      1      0   7.2500         2      1\n",
       "1         1       1    1  38.0      1      0  71.2833         0      3\n",
       "2         1       3    1  26.0      0      0   7.9250         2      2\n",
       "3         1       1    1  35.0      1      0  53.1000         2      3\n",
       "4         0       3    0  35.0      0      0   8.0500         2      1"
      ]
     },
     "execution_count": 29,
     "metadata": {},
     "output_type": "execute_result"
    }
   ],
   "source": [
    "from sklearn.preprocessing import LabelEncoder\n",
    "le = LabelEncoder()\n",
    "train_df['Embarked'] = le.fit_transform(train_df['Embarked'])\n",
    "train_df.head()"
   ]
  },
  {
   "cell_type": "code",
   "execution_count": 30,
   "id": "c79aeb67",
   "metadata": {
    "execution": {
     "iopub.execute_input": "2023-04-24T21:10:48.770718Z",
     "iopub.status.busy": "2023-04-24T21:10:48.770298Z",
     "iopub.status.idle": "2023-04-24T21:10:48.792814Z",
     "shell.execute_reply": "2023-04-24T21:10:48.791318Z"
    },
    "papermill": {
     "duration": 0.057162,
     "end_time": "2023-04-24T21:10:48.796356",
     "exception": false,
     "start_time": "2023-04-24T21:10:48.739194",
     "status": "completed"
    },
    "tags": []
   },
   "outputs": [
    {
     "data": {
      "text/html": [
       "<div>\n",
       "<style scoped>\n",
       "    .dataframe tbody tr th:only-of-type {\n",
       "        vertical-align: middle;\n",
       "    }\n",
       "\n",
       "    .dataframe tbody tr th {\n",
       "        vertical-align: top;\n",
       "    }\n",
       "\n",
       "    .dataframe thead th {\n",
       "        text-align: right;\n",
       "    }\n",
       "</style>\n",
       "<table border=\"1\" class=\"dataframe\">\n",
       "  <thead>\n",
       "    <tr style=\"text-align: right;\">\n",
       "      <th></th>\n",
       "      <th>Survived</th>\n",
       "      <th>Pclass</th>\n",
       "      <th>Sex</th>\n",
       "      <th>Age</th>\n",
       "      <th>SibSp</th>\n",
       "      <th>Parch</th>\n",
       "      <th>Fare</th>\n",
       "      <th>Embarked</th>\n",
       "      <th>Title</th>\n",
       "    </tr>\n",
       "  </thead>\n",
       "  <tbody>\n",
       "    <tr>\n",
       "      <th>Survived</th>\n",
       "      <td>1.000000</td>\n",
       "      <td>-0.338481</td>\n",
       "      <td>0.543351</td>\n",
       "      <td>-0.067814</td>\n",
       "      <td>-0.035322</td>\n",
       "      <td>0.081629</td>\n",
       "      <td>0.257307</td>\n",
       "      <td>-0.163517</td>\n",
       "      <td>0.407753</td>\n",
       "    </tr>\n",
       "    <tr>\n",
       "      <th>Pclass</th>\n",
       "      <td>-0.338481</td>\n",
       "      <td>1.000000</td>\n",
       "      <td>-0.131900</td>\n",
       "      <td>-0.334974</td>\n",
       "      <td>0.083081</td>\n",
       "      <td>0.018443</td>\n",
       "      <td>-0.549500</td>\n",
       "      <td>0.157112</td>\n",
       "      <td>-0.173929</td>\n",
       "    </tr>\n",
       "    <tr>\n",
       "      <th>Sex</th>\n",
       "      <td>0.543351</td>\n",
       "      <td>-0.131900</td>\n",
       "      <td>1.000000</td>\n",
       "      <td>-0.082949</td>\n",
       "      <td>0.114631</td>\n",
       "      <td>0.245489</td>\n",
       "      <td>0.182333</td>\n",
       "      <td>-0.104057</td>\n",
       "      <td>0.502713</td>\n",
       "    </tr>\n",
       "    <tr>\n",
       "      <th>Age</th>\n",
       "      <td>-0.067814</td>\n",
       "      <td>-0.334974</td>\n",
       "      <td>-0.082949</td>\n",
       "      <td>1.000000</td>\n",
       "      <td>-0.232978</td>\n",
       "      <td>-0.176486</td>\n",
       "      <td>0.093706</td>\n",
       "      <td>-0.018937</td>\n",
       "      <td>-0.094914</td>\n",
       "    </tr>\n",
       "    <tr>\n",
       "      <th>SibSp</th>\n",
       "      <td>-0.035322</td>\n",
       "      <td>0.083081</td>\n",
       "      <td>0.114631</td>\n",
       "      <td>-0.232978</td>\n",
       "      <td>1.000000</td>\n",
       "      <td>0.414838</td>\n",
       "      <td>0.159651</td>\n",
       "      <td>0.066654</td>\n",
       "      <td>0.269623</td>\n",
       "    </tr>\n",
       "    <tr>\n",
       "      <th>Parch</th>\n",
       "      <td>0.081629</td>\n",
       "      <td>0.018443</td>\n",
       "      <td>0.245489</td>\n",
       "      <td>-0.176486</td>\n",
       "      <td>0.414838</td>\n",
       "      <td>1.000000</td>\n",
       "      <td>0.216225</td>\n",
       "      <td>0.038322</td>\n",
       "      <td>0.315784</td>\n",
       "    </tr>\n",
       "    <tr>\n",
       "      <th>Fare</th>\n",
       "      <td>0.257307</td>\n",
       "      <td>-0.549500</td>\n",
       "      <td>0.182333</td>\n",
       "      <td>0.093706</td>\n",
       "      <td>0.159651</td>\n",
       "      <td>0.216225</td>\n",
       "      <td>1.000000</td>\n",
       "      <td>-0.221226</td>\n",
       "      <td>0.136310</td>\n",
       "    </tr>\n",
       "    <tr>\n",
       "      <th>Embarked</th>\n",
       "      <td>-0.163517</td>\n",
       "      <td>0.157112</td>\n",
       "      <td>-0.104057</td>\n",
       "      <td>-0.018937</td>\n",
       "      <td>0.066654</td>\n",
       "      <td>0.038322</td>\n",
       "      <td>-0.221226</td>\n",
       "      <td>1.000000</td>\n",
       "      <td>-0.058549</td>\n",
       "    </tr>\n",
       "    <tr>\n",
       "      <th>Title</th>\n",
       "      <td>0.407753</td>\n",
       "      <td>-0.173929</td>\n",
       "      <td>0.502713</td>\n",
       "      <td>-0.094914</td>\n",
       "      <td>0.269623</td>\n",
       "      <td>0.315784</td>\n",
       "      <td>0.136310</td>\n",
       "      <td>-0.058549</td>\n",
       "      <td>1.000000</td>\n",
       "    </tr>\n",
       "  </tbody>\n",
       "</table>\n",
       "</div>"
      ],
      "text/plain": [
       "          Survived    Pclass       Sex       Age     SibSp     Parch  \\\n",
       "Survived  1.000000 -0.338481  0.543351 -0.067814 -0.035322  0.081629   \n",
       "Pclass   -0.338481  1.000000 -0.131900 -0.334974  0.083081  0.018443   \n",
       "Sex       0.543351 -0.131900  1.000000 -0.082949  0.114631  0.245489   \n",
       "Age      -0.067814 -0.334974 -0.082949  1.000000 -0.232978 -0.176486   \n",
       "SibSp    -0.035322  0.083081  0.114631 -0.232978  1.000000  0.414838   \n",
       "Parch     0.081629  0.018443  0.245489 -0.176486  0.414838  1.000000   \n",
       "Fare      0.257307 -0.549500  0.182333  0.093706  0.159651  0.216225   \n",
       "Embarked -0.163517  0.157112 -0.104057 -0.018937  0.066654  0.038322   \n",
       "Title     0.407753 -0.173929  0.502713 -0.094914  0.269623  0.315784   \n",
       "\n",
       "              Fare  Embarked     Title  \n",
       "Survived  0.257307 -0.163517  0.407753  \n",
       "Pclass   -0.549500  0.157112 -0.173929  \n",
       "Sex       0.182333 -0.104057  0.502713  \n",
       "Age       0.093706 -0.018937 -0.094914  \n",
       "SibSp     0.159651  0.066654  0.269623  \n",
       "Parch     0.216225  0.038322  0.315784  \n",
       "Fare      1.000000 -0.221226  0.136310  \n",
       "Embarked -0.221226  1.000000 -0.058549  \n",
       "Title     0.136310 -0.058549  1.000000  "
      ]
     },
     "execution_count": 30,
     "metadata": {},
     "output_type": "execute_result"
    }
   ],
   "source": [
    "train_df.corr()"
   ]
  },
  {
   "cell_type": "code",
   "execution_count": 31,
   "id": "cada2b6a",
   "metadata": {
    "execution": {
     "iopub.execute_input": "2023-04-24T21:10:48.858529Z",
     "iopub.status.busy": "2023-04-24T21:10:48.858054Z",
     "iopub.status.idle": "2023-04-24T21:10:49.594339Z",
     "shell.execute_reply": "2023-04-24T21:10:49.592690Z"
    },
    "papermill": {
     "duration": 0.772905,
     "end_time": "2023-04-24T21:10:49.598286",
     "exception": false,
     "start_time": "2023-04-24T21:10:48.825381",
     "status": "completed"
    },
    "tags": []
   },
   "outputs": [
    {
     "data": {
      "image/png": "[encoded data removed]",
      "text/plain": [
       "<Figure size 640x480 with 2 Axes>"
      ]
     },
     "metadata": {},
     "output_type": "display_data"
    }
   ],
   "source": [
    "dataplot = sns.heatmap(train_df.corr(), annot=True)\n",
    "plt.show()"
   ]
  },
  {
   "cell_type": "markdown",
   "id": "9a868a40",
   "metadata": {
    "papermill": {
     "duration": 0.031431,
     "end_time": "2023-04-24T21:10:49.661398",
     "exception": false,
     "start_time": "2023-04-24T21:10:49.629967",
     "status": "completed"
    },
    "tags": []
   },
   "source": [
    "## MACHINE LEARNING"
   ]
  },
  {
   "cell_type": "markdown",
   "id": "c89aba50",
   "metadata": {
    "papermill": {
     "duration": 0.032758,
     "end_time": "2023-04-24T21:10:49.725878",
     "exception": false,
     "start_time": "2023-04-24T21:10:49.693120",
     "status": "completed"
    },
    "tags": []
   },
   "source": [
    "Various machine learning algorithm were tested.\\\n",
    "The test and train score for each algorithm were reviewed along side the confusion matrix."
   ]
  },
  {
   "cell_type": "code",
   "execution_count": 32,
   "id": "388483fc",
   "metadata": {
    "execution": {
     "iopub.execute_input": "2023-04-24T21:10:49.794158Z",
     "iopub.status.busy": "2023-04-24T21:10:49.793615Z",
     "iopub.status.idle": "2023-04-24T21:10:49.801657Z",
     "shell.execute_reply": "2023-04-24T21:10:49.800207Z"
    },
    "papermill": {
     "duration": 0.046396,
     "end_time": "2023-04-24T21:10:49.804398",
     "exception": false,
     "start_time": "2023-04-24T21:10:49.758002",
     "status": "completed"
    },
    "tags": []
   },
   "outputs": [],
   "source": [
    "x = train_df[['Pclass','Sex','Age','SibSp','Parch','Fare', 'Embarked','Title']]\n",
    "y = train_df['Survived']"
   ]
  },
  {
   "cell_type": "code",
   "execution_count": 33,
   "id": "22eb5963",
   "metadata": {
    "execution": {
     "iopub.execute_input": "2023-04-24T21:10:49.869391Z",
     "iopub.status.busy": "2023-04-24T21:10:49.868904Z",
     "iopub.status.idle": "2023-04-24T21:10:49.877820Z",
     "shell.execute_reply": "2023-04-24T21:10:49.876573Z"
    },
    "papermill": {
     "duration": 0.045732,
     "end_time": "2023-04-24T21:10:49.880822",
     "exception": false,
     "start_time": "2023-04-24T21:10:49.835090",
     "status": "completed"
    },
    "tags": []
   },
   "outputs": [],
   "source": [
    "from sklearn.model_selection import train_test_split\n",
    "\n",
    "x_train, x_test, y_train, y_test = train_test_split( x, y, test_size = 0.40, random_state = 42 )"
   ]
  },
  {
   "cell_type": "markdown",
   "id": "da823203",
   "metadata": {
    "papermill": {
     "duration": 0.030647,
     "end_time": "2023-04-24T21:10:49.942821",
     "exception": false,
     "start_time": "2023-04-24T21:10:49.912174",
     "status": "completed"
    },
    "tags": []
   },
   "source": [
    "60% of the data frame was used to train the algorithm"
   ]
  },
  {
   "cell_type": "code",
   "execution_count": 34,
   "id": "24c428ee",
   "metadata": {
    "execution": {
     "iopub.execute_input": "2023-04-24T21:10:50.005120Z",
     "iopub.status.busy": "2023-04-24T21:10:50.004637Z",
     "iopub.status.idle": "2023-04-24T21:10:50.010832Z",
     "shell.execute_reply": "2023-04-24T21:10:50.009406Z"
    },
    "papermill": {
     "duration": 0.040299,
     "end_time": "2023-04-24T21:10:50.013714",
     "exception": false,
     "start_time": "2023-04-24T21:10:49.973415",
     "status": "completed"
    },
    "tags": []
   },
   "outputs": [],
   "source": [
    "headers = x.columns \n"
   ]
  },
  {
   "cell_type": "code",
   "execution_count": 35,
   "id": "41ae565e",
   "metadata": {
    "execution": {
     "iopub.execute_input": "2023-04-24T21:10:50.079645Z",
     "iopub.status.busy": "2023-04-24T21:10:50.078907Z",
     "iopub.status.idle": "2023-04-24T21:10:50.106173Z",
     "shell.execute_reply": "2023-04-24T21:10:50.104371Z"
    },
    "papermill": {
     "duration": 0.062696,
     "end_time": "2023-04-24T21:10:50.109420",
     "exception": false,
     "start_time": "2023-04-24T21:10:50.046724",
     "status": "completed"
    },
    "tags": []
   },
   "outputs": [
    {
     "data": {
      "text/html": [
       "<div>\n",
       "<style scoped>\n",
       "    .dataframe tbody tr th:only-of-type {\n",
       "        vertical-align: middle;\n",
       "    }\n",
       "\n",
       "    .dataframe tbody tr th {\n",
       "        vertical-align: top;\n",
       "    }\n",
       "\n",
       "    .dataframe thead th {\n",
       "        text-align: right;\n",
       "    }\n",
       "</style>\n",
       "<table border=\"1\" class=\"dataframe\">\n",
       "  <thead>\n",
       "    <tr style=\"text-align: right;\">\n",
       "      <th></th>\n",
       "      <th>Pclass</th>\n",
       "      <th>Sex</th>\n",
       "      <th>Age</th>\n",
       "      <th>SibSp</th>\n",
       "      <th>Parch</th>\n",
       "      <th>Fare</th>\n",
       "      <th>Embarked</th>\n",
       "      <th>Title</th>\n",
       "    </tr>\n",
       "  </thead>\n",
       "  <tbody>\n",
       "    <tr>\n",
       "      <th>0</th>\n",
       "      <td>-0.408652</td>\n",
       "      <td>-0.737125</td>\n",
       "      <td>2.529619</td>\n",
       "      <td>-0.464063</td>\n",
       "      <td>-0.468427</td>\n",
       "      <td>-0.412724</td>\n",
       "      <td>0.573494</td>\n",
       "      <td>-0.699855</td>\n",
       "    </tr>\n",
       "    <tr>\n",
       "      <th>1</th>\n",
       "      <td>0.803682</td>\n",
       "      <td>-0.737125</td>\n",
       "      <td>-1.638477</td>\n",
       "      <td>2.692745</td>\n",
       "      <td>0.794906</td>\n",
       "      <td>-0.066661</td>\n",
       "      <td>-0.718682</td>\n",
       "      <td>2.289924</td>\n",
       "    </tr>\n",
       "    <tr>\n",
       "      <th>2</th>\n",
       "      <td>0.803682</td>\n",
       "      <td>-0.737125</td>\n",
       "      <td>0.214010</td>\n",
       "      <td>-0.464063</td>\n",
       "      <td>-0.468427</td>\n",
       "      <td>0.441904</td>\n",
       "      <td>0.573494</td>\n",
       "      <td>-0.699855</td>\n",
       "    </tr>\n",
       "    <tr>\n",
       "      <th>3</th>\n",
       "      <td>0.803682</td>\n",
       "      <td>1.356623</td>\n",
       "      <td>-0.712233</td>\n",
       "      <td>0.325139</td>\n",
       "      <td>-0.468427</td>\n",
       "      <td>-0.425266</td>\n",
       "      <td>0.573494</td>\n",
       "      <td>0.296738</td>\n",
       "    </tr>\n",
       "    <tr>\n",
       "      <th>4</th>\n",
       "      <td>-0.408652</td>\n",
       "      <td>1.356623</td>\n",
       "      <td>-0.094738</td>\n",
       "      <td>-0.464063</td>\n",
       "      <td>-0.468427</td>\n",
       "      <td>-0.366273</td>\n",
       "      <td>0.573494</td>\n",
       "      <td>0.296738</td>\n",
       "    </tr>\n",
       "  </tbody>\n",
       "</table>\n",
       "</div>"
      ],
      "text/plain": [
       "     Pclass       Sex       Age     SibSp     Parch      Fare  Embarked  \\\n",
       "0 -0.408652 -0.737125  2.529619 -0.464063 -0.468427 -0.412724  0.573494   \n",
       "1  0.803682 -0.737125 -1.638477  2.692745  0.794906 -0.066661 -0.718682   \n",
       "2  0.803682 -0.737125  0.214010 -0.464063 -0.468427  0.441904  0.573494   \n",
       "3  0.803682  1.356623 -0.712233  0.325139 -0.468427 -0.425266  0.573494   \n",
       "4 -0.408652  1.356623 -0.094738 -0.464063 -0.468427 -0.366273  0.573494   \n",
       "\n",
       "      Title  \n",
       "0 -0.699855  \n",
       "1  2.289924  \n",
       "2 -0.699855  \n",
       "3  0.296738  \n",
       "4  0.296738  "
      ]
     },
     "execution_count": 35,
     "metadata": {},
     "output_type": "execute_result"
    }
   ],
   "source": [
    "from sklearn.preprocessing import StandardScaler\n",
    "st_scale = StandardScaler()\n",
    "\n",
    "\n",
    "## transforming \"train_x\"\n",
    "x_train = st_scale.fit_transform(x_train)\n",
    "## transforming \"test_x\"\n",
    "x_test = st_scale.transform(x_test)\n",
    "pd.DataFrame(x_train,columns=headers).head()"
   ]
  },
  {
   "cell_type": "code",
   "execution_count": 36,
   "id": "eab2480a",
   "metadata": {
    "execution": {
     "iopub.execute_input": "2023-04-24T21:10:50.176399Z",
     "iopub.status.busy": "2023-04-24T21:10:50.175897Z",
     "iopub.status.idle": "2023-04-24T21:10:50.195403Z",
     "shell.execute_reply": "2023-04-24T21:10:50.194407Z"
    },
    "papermill": {
     "duration": 0.056246,
     "end_time": "2023-04-24T21:10:50.198062",
     "exception": false,
     "start_time": "2023-04-24T21:10:50.141816",
     "status": "completed"
    },
    "tags": []
   },
   "outputs": [
    {
     "data": {
      "text/plain": [
       "82.21"
      ]
     },
     "execution_count": 36,
     "metadata": {},
     "output_type": "execute_result"
    }
   ],
   "source": [
    "logreg = LogisticRegression()\n",
    "logreg.fit(x_train, y_train)\n",
    "Y_pred = logreg.predict(x_test)\n",
    "acc_log = round(logreg.score(x_train, y_train) * 100, 2)\n",
    "acc_log"
   ]
  },
  {
   "cell_type": "code",
   "execution_count": 37,
   "id": "5c340f58",
   "metadata": {
    "execution": {
     "iopub.execute_input": "2023-04-24T21:10:50.267433Z",
     "iopub.status.busy": "2023-04-24T21:10:50.266893Z",
     "iopub.status.idle": "2023-04-24T21:10:50.284600Z",
     "shell.execute_reply": "2023-04-24T21:10:50.282893Z"
    },
    "papermill": {
     "duration": 0.056022,
     "end_time": "2023-04-24T21:10:50.287223",
     "exception": false,
     "start_time": "2023-04-24T21:10:50.231201",
     "status": "completed"
    },
    "tags": []
   },
   "outputs": [
    {
     "data": {
      "text/html": [
       "<div>\n",
       "<style scoped>\n",
       "    .dataframe tbody tr th:only-of-type {\n",
       "        vertical-align: middle;\n",
       "    }\n",
       "\n",
       "    .dataframe tbody tr th {\n",
       "        vertical-align: top;\n",
       "    }\n",
       "\n",
       "    .dataframe thead th {\n",
       "        text-align: right;\n",
       "    }\n",
       "</style>\n",
       "<table border=\"1\" class=\"dataframe\">\n",
       "  <thead>\n",
       "    <tr style=\"text-align: right;\">\n",
       "      <th></th>\n",
       "      <th>Feature</th>\n",
       "      <th>Correlation</th>\n",
       "    </tr>\n",
       "  </thead>\n",
       "  <tbody>\n",
       "    <tr>\n",
       "      <th>1</th>\n",
       "      <td>Sex</td>\n",
       "      <td>1.083509</td>\n",
       "    </tr>\n",
       "    <tr>\n",
       "      <th>7</th>\n",
       "      <td>Title</td>\n",
       "      <td>0.585333</td>\n",
       "    </tr>\n",
       "    <tr>\n",
       "      <th>5</th>\n",
       "      <td>Fare</td>\n",
       "      <td>0.200200</td>\n",
       "    </tr>\n",
       "    <tr>\n",
       "      <th>6</th>\n",
       "      <td>Embarked</td>\n",
       "      <td>-0.209967</td>\n",
       "    </tr>\n",
       "    <tr>\n",
       "      <th>4</th>\n",
       "      <td>Parch</td>\n",
       "      <td>-0.217366</td>\n",
       "    </tr>\n",
       "    <tr>\n",
       "      <th>2</th>\n",
       "      <td>Age</td>\n",
       "      <td>-0.375433</td>\n",
       "    </tr>\n",
       "    <tr>\n",
       "      <th>3</th>\n",
       "      <td>SibSp</td>\n",
       "      <td>-0.449426</td>\n",
       "    </tr>\n",
       "    <tr>\n",
       "      <th>0</th>\n",
       "      <td>Pclass</td>\n",
       "      <td>-0.669510</td>\n",
       "    </tr>\n",
       "  </tbody>\n",
       "</table>\n",
       "</div>"
      ],
      "text/plain": [
       "    Feature  Correlation\n",
       "1       Sex     1.083509\n",
       "7     Title     0.585333\n",
       "5      Fare     0.200200\n",
       "6  Embarked    -0.209967\n",
       "4     Parch    -0.217366\n",
       "2       Age    -0.375433\n",
       "3     SibSp    -0.449426\n",
       "0    Pclass    -0.669510"
      ]
     },
     "execution_count": 37,
     "metadata": {},
     "output_type": "execute_result"
    }
   ],
   "source": [
    "coeff_df = pd.DataFrame(x.columns)\n",
    "coeff_df.columns = ['Feature']\n",
    "coeff_df[\"Correlation\"] = pd.Series(logreg.coef_[0])\n",
    "coeff_df.sort_values(by='Correlation', ascending=False)"
   ]
  },
  {
   "cell_type": "code",
   "execution_count": 38,
   "id": "d9032de7",
   "metadata": {
    "execution": {
     "iopub.execute_input": "2023-04-24T21:10:50.357405Z",
     "iopub.status.busy": "2023-04-24T21:10:50.355072Z",
     "iopub.status.idle": "2023-04-24T21:10:50.379552Z",
     "shell.execute_reply": "2023-04-24T21:10:50.377776Z"
    },
    "papermill": {
     "duration": 0.061963,
     "end_time": "2023-04-24T21:10:50.382583",
     "exception": false,
     "start_time": "2023-04-24T21:10:50.320620",
     "status": "completed"
    },
    "tags": []
   },
   "outputs": [
    {
     "name": "stdout",
     "output_type": "stream",
     "text": [
      "              precision    recall  f1-score   support\n",
      "\n",
      "           0       0.82      0.84      0.83       216\n",
      "           1       0.75      0.72      0.73       141\n",
      "\n",
      "    accuracy                           0.79       357\n",
      "   macro avg       0.78      0.78      0.78       357\n",
      "weighted avg       0.79      0.79      0.79       357\n",
      "\n",
      "****************************************************************************************************\n"
     ]
    },
    {
     "data": {
      "text/html": [
       "<div>\n",
       "<style scoped>\n",
       "    .dataframe tbody tr th:only-of-type {\n",
       "        vertical-align: middle;\n",
       "    }\n",
       "\n",
       "    .dataframe tbody tr th {\n",
       "        vertical-align: top;\n",
       "    }\n",
       "\n",
       "    .dataframe thead th {\n",
       "        text-align: right;\n",
       "    }\n",
       "</style>\n",
       "<table border=\"1\" class=\"dataframe\">\n",
       "  <thead>\n",
       "    <tr style=\"text-align: right;\">\n",
       "      <th></th>\n",
       "      <th>Predicted Not-Survived</th>\n",
       "      <th>Predicted Survived</th>\n",
       "    </tr>\n",
       "  </thead>\n",
       "  <tbody>\n",
       "    <tr>\n",
       "      <th>Not-Survived</th>\n",
       "      <td>182</td>\n",
       "      <td>34</td>\n",
       "    </tr>\n",
       "    <tr>\n",
       "      <th>Survived</th>\n",
       "      <td>40</td>\n",
       "      <td>101</td>\n",
       "    </tr>\n",
       "  </tbody>\n",
       "</table>\n",
       "</div>"
      ],
      "text/plain": [
       "              Predicted Not-Survived  Predicted Survived\n",
       "Not-Survived                     182                  34\n",
       "Survived                          40                 101"
      ]
     },
     "execution_count": 38,
     "metadata": {},
     "output_type": "execute_result"
    }
   ],
   "source": [
    "from sklearn.metrics import classification_report, balanced_accuracy_score\n",
    "from sklearn.metrics import classification_report, confusion_matrix\n",
    "print(classification_report(y_test, Y_pred))\n",
    "print('*'*100)\n",
    "pd.DataFrame(confusion_matrix(y_test,Y_pred),\\\n",
    "            columns=[\"Predicted Not-Survived\", \"Predicted Survived\"],\\\n",
    "            index=[\"Not-Survived\",\"Survived\"] )"
   ]
  },
  {
   "cell_type": "code",
   "execution_count": 39,
   "id": "3524f8ca",
   "metadata": {
    "execution": {
     "iopub.execute_input": "2023-04-24T21:10:50.450179Z",
     "iopub.status.busy": "2023-04-24T21:10:50.449302Z",
     "iopub.status.idle": "2023-04-24T21:10:50.491330Z",
     "shell.execute_reply": "2023-04-24T21:10:50.489784Z"
    },
    "papermill": {
     "duration": 0.079046,
     "end_time": "2023-04-24T21:10:50.494097",
     "exception": false,
     "start_time": "2023-04-24T21:10:50.415051",
     "status": "completed"
    },
    "tags": []
   },
   "outputs": [
    {
     "data": {
      "text/plain": [
       "85.39"
      ]
     },
     "execution_count": 39,
     "metadata": {},
     "output_type": "execute_result"
    }
   ],
   "source": [
    "svc = SVC()\n",
    "svc.fit(x_train, y_train)\n",
    "Y_pred_svc = svc.predict(x_test)\n",
    "acc_svc = round(svc.score(x_train, y_train) * 100, 2)\n",
    "acc_svc"
   ]
  },
  {
   "cell_type": "code",
   "execution_count": 40,
   "id": "b232cdde",
   "metadata": {
    "execution": {
     "iopub.execute_input": "2023-04-24T21:10:50.562110Z",
     "iopub.status.busy": "2023-04-24T21:10:50.561538Z",
     "iopub.status.idle": "2023-04-24T21:10:50.582779Z",
     "shell.execute_reply": "2023-04-24T21:10:50.581686Z"
    },
    "papermill": {
     "duration": 0.058986,
     "end_time": "2023-04-24T21:10:50.585366",
     "exception": false,
     "start_time": "2023-04-24T21:10:50.526380",
     "status": "completed"
    },
    "tags": []
   },
   "outputs": [
    {
     "name": "stdout",
     "output_type": "stream",
     "text": [
      "              precision    recall  f1-score   support\n",
      "\n",
      "           0       0.83      0.89      0.86       216\n",
      "           1       0.81      0.72      0.76       141\n",
      "\n",
      "    accuracy                           0.82       357\n",
      "   macro avg       0.82      0.80      0.81       357\n",
      "weighted avg       0.82      0.82      0.82       357\n",
      "\n",
      "****************************************************************************************************\n"
     ]
    },
    {
     "data": {
      "text/html": [
       "<div>\n",
       "<style scoped>\n",
       "    .dataframe tbody tr th:only-of-type {\n",
       "        vertical-align: middle;\n",
       "    }\n",
       "\n",
       "    .dataframe tbody tr th {\n",
       "        vertical-align: top;\n",
       "    }\n",
       "\n",
       "    .dataframe thead th {\n",
       "        text-align: right;\n",
       "    }\n",
       "</style>\n",
       "<table border=\"1\" class=\"dataframe\">\n",
       "  <thead>\n",
       "    <tr style=\"text-align: right;\">\n",
       "      <th></th>\n",
       "      <th>Predicted Not-Survived</th>\n",
       "      <th>Predicted Survived</th>\n",
       "    </tr>\n",
       "  </thead>\n",
       "  <tbody>\n",
       "    <tr>\n",
       "      <th>Not-Survived</th>\n",
       "      <td>192</td>\n",
       "      <td>24</td>\n",
       "    </tr>\n",
       "    <tr>\n",
       "      <th>Survived</th>\n",
       "      <td>40</td>\n",
       "      <td>101</td>\n",
       "    </tr>\n",
       "  </tbody>\n",
       "</table>\n",
       "</div>"
      ],
      "text/plain": [
       "              Predicted Not-Survived  Predicted Survived\n",
       "Not-Survived                     192                  24\n",
       "Survived                          40                 101"
      ]
     },
     "execution_count": 40,
     "metadata": {},
     "output_type": "execute_result"
    }
   ],
   "source": [
    "print(classification_report(y_test, Y_pred_svc))\n",
    "print('*'*100)\n",
    "pd.DataFrame(confusion_matrix(y_test,Y_pred_svc),\\\n",
    "            columns=[\"Predicted Not-Survived\", \"Predicted Survived\"],\\\n",
    "            index=[\"Not-Survived\",\"Survived\"])"
   ]
  },
  {
   "cell_type": "code",
   "execution_count": 41,
   "id": "e11ce07b",
   "metadata": {
    "execution": {
     "iopub.execute_input": "2023-04-24T21:10:50.651082Z",
     "iopub.status.busy": "2023-04-24T21:10:50.650531Z",
     "iopub.status.idle": "2023-04-24T21:10:50.710017Z",
     "shell.execute_reply": "2023-04-24T21:10:50.708209Z"
    },
    "papermill": {
     "duration": 0.095948,
     "end_time": "2023-04-24T21:10:50.713350",
     "exception": false,
     "start_time": "2023-04-24T21:10:50.617402",
     "status": "completed"
    },
    "tags": []
   },
   "outputs": [
    {
     "data": {
      "text/plain": [
       "86.14"
      ]
     },
     "execution_count": 41,
     "metadata": {},
     "output_type": "execute_result"
    }
   ],
   "source": [
    "knn = KNeighborsClassifier(n_neighbors = 5)\n",
    "knn.fit(x_train, y_train)\n",
    "Y_pred_knn = knn.predict(x_test)\n",
    "acc_knn_tst = round(knn.score(x_test, y_test) * 100, 2)\n",
    "acc_knn = round(knn.score(x_train, y_train) * 100, 2)\n",
    "acc_knn\n"
   ]
  },
  {
   "cell_type": "code",
   "execution_count": 42,
   "id": "46b8a4bb",
   "metadata": {
    "execution": {
     "iopub.execute_input": "2023-04-24T21:10:50.786588Z",
     "iopub.status.busy": "2023-04-24T21:10:50.785958Z",
     "iopub.status.idle": "2023-04-24T21:10:50.965969Z",
     "shell.execute_reply": "2023-04-24T21:10:50.964164Z"
    },
    "papermill": {
     "duration": 0.223628,
     "end_time": "2023-04-24T21:10:50.969104",
     "exception": false,
     "start_time": "2023-04-24T21:10:50.745476",
     "status": "completed"
    },
    "tags": []
   },
   "outputs": [
    {
     "name": "stdout",
     "output_type": "stream",
     "text": [
      "Cross-Validation accuracy scores:[0.73991031 0.74887892 0.72197309 0.71748879 0.71300448 0.76681614\n",
      " 0.71748879 0.70403587 0.7309417  0.73991031]\n",
      "Mean Cross-Validation accuracy score: 0.73\n"
     ]
    }
   ],
   "source": [
    "from sklearn.model_selection import GridSearchCV, StratifiedKFold\n",
    "from sklearn.model_selection import StratifiedShuffleSplit, cross_val_score\n",
    "knn = KNeighborsClassifier(metric='minkowski', p=2)\n",
    " \n",
    "cv = StratifiedShuffleSplit(n_splits=10, test_size=.25, random_state=2)\n",
    "\n",
    "accuracies = cross_val_score(knn, x,y, cv = cv, scoring='accuracy')\n",
    "print (\"Cross-Validation accuracy scores:{}\".format(accuracies))\n",
    "print (\"Mean Cross-Validation accuracy score: {}\".format(round(accuracies.mean(),3)))"
   ]
  },
  {
   "cell_type": "code",
   "execution_count": 43,
   "id": "3cc2ee84",
   "metadata": {
    "execution": {
     "iopub.execute_input": "2023-04-24T21:10:51.037031Z",
     "iopub.status.busy": "2023-04-24T21:10:51.036283Z",
     "iopub.status.idle": "2023-04-24T21:10:55.545516Z",
     "shell.execute_reply": "2023-04-24T21:10:55.543644Z"
    },
    "papermill": {
     "duration": 4.546792,
     "end_time": "2023-04-24T21:10:55.548406",
     "exception": false,
     "start_time": "2023-04-24T21:10:51.001614",
     "status": "completed"
    },
    "tags": []
   },
   "outputs": [
    {
     "name": "stdout",
     "output_type": "stream",
     "text": [
      "Accuracy scores are: [0.6986547085201793, 0.7040358744394619, 0.7367713004484304, 0.7161434977578476, 0.7300448430493274, 0.7192825112107625, 0.7242152466367713, 0.7067264573991031, 0.7067264573991031, 0.704932735426009, 0.7103139013452915, 0.704932735426009, 0.7103139013452915, 0.7049327354260091, 0.7156950672645739, 0.7121076233183856, 0.7161434977578476, 0.7143497757847534, 0.7143497757847534, 0.7098654708520179, 0.7067264573991032, 0.705829596412556, 0.7031390134529149, 0.7040358744394618, 0.6977578475336322, 0.7004484304932735, 0.6995515695067265, 0.6982062780269058, 0.6932735426008968, 0.694170403587444]\n",
      "\n",
      "Mean accuracy score: 0.7087892376681615\n"
     ]
    }
   ],
   "source": [
    "k_range = range(1,31)\n",
    "k_scores = []\n",
    "for k in k_range:\n",
    "    knn = KNeighborsClassifier(n_neighbors=k)\n",
    "    scores = cross_val_score(knn, x,y, cv = cv, scoring = 'accuracy')\n",
    "    k_scores.append(scores.mean())\n",
    "print(\"Accuracy scores are: {}\\n\".format(k_scores))\n",
    "print (\"Mean accuracy score: {}\".format(np.mean(k_scores)))"
   ]
  },
  {
   "cell_type": "code",
   "execution_count": 44,
   "id": "a5ba219a",
   "metadata": {
    "execution": {
     "iopub.execute_input": "2023-04-24T21:10:55.615196Z",
     "iopub.status.busy": "2023-04-24T21:10:55.614477Z",
     "iopub.status.idle": "2023-04-24T21:10:55.846351Z",
     "shell.execute_reply": "2023-04-24T21:10:55.844974Z"
    },
    "papermill": {
     "duration": 0.269127,
     "end_time": "2023-04-24T21:10:55.849242",
     "exception": false,
     "start_time": "2023-04-24T21:10:55.580115",
     "status": "completed"
    },
    "tags": []
   },
   "outputs": [
    {
     "data": {
      "text/plain": [
       "[<matplotlib.lines.Line2D at 0x727e1cc45990>]"
      ]
     },
     "execution_count": 44,
     "metadata": {},
     "output_type": "execute_result"
    },
    {
     "data": {
      "image/png": "[encoded data removed]",
      "text/plain": [
       "<Figure size 640x480 with 1 Axes>"
      ]
     },
     "metadata": {},
     "output_type": "display_data"
    }
   ],
   "source": [
    "from matplotlib import pyplot as plt\n",
    "plt.plot(k_range, k_scores)"
   ]
  },
  {
   "cell_type": "code",
   "execution_count": 45,
   "id": "55a9fa74",
   "metadata": {
    "execution": {
     "iopub.execute_input": "2023-04-24T21:10:55.917123Z",
     "iopub.status.busy": "2023-04-24T21:10:55.915876Z",
     "iopub.status.idle": "2023-04-24T21:11:00.925206Z",
     "shell.execute_reply": "2023-04-24T21:11:00.922968Z"
    },
    "papermill": {
     "duration": 5.047012,
     "end_time": "2023-04-24T21:11:00.928739",
     "exception": false,
     "start_time": "2023-04-24T21:10:55.881727",
     "status": "completed"
    },
    "tags": []
   },
   "outputs": [
    {
     "data": {
      "text/plain": [
       "GridSearchCV(cv=StratifiedShuffleSplit(n_splits=10, random_state=15, test_size=0.3,\n",
       "            train_size=None),\n",
       "             estimator=KNeighborsClassifier(), n_jobs=-1,\n",
       "             param_grid={'n_neighbors': range(1, 31),\n",
       "                         'weights': ['uniform', 'distance']},\n",
       "             verbose=False)"
      ]
     },
     "execution_count": 45,
     "metadata": {},
     "output_type": "execute_result"
    }
   ],
   "source": [
    "k_range = range(1,31)\n",
    "\n",
    "weights_options=['uniform','distance']\n",
    "\n",
    "param = {'n_neighbors':k_range, 'weights':weights_options}\n",
    "\n",
    "cv = StratifiedShuffleSplit(n_splits=10, test_size=.30, random_state=15)\n",
    "# estimator = knn, param_grid = param, n_jobs = -1 to instruct scikit learn to use all available processors. \n",
    "grid = GridSearchCV(KNeighborsClassifier(), param,cv=cv,verbose = False, n_jobs=-1)\n",
    "## Fitting the model. \n",
    "grid.fit(x,y)"
   ]
  },
  {
   "cell_type": "code",
   "execution_count": 46,
   "id": "04280c9d",
   "metadata": {
    "execution": {
     "iopub.execute_input": "2023-04-24T21:11:00.998655Z",
     "iopub.status.busy": "2023-04-24T21:11:00.997699Z",
     "iopub.status.idle": "2023-04-24T21:11:01.007545Z",
     "shell.execute_reply": "2023-04-24T21:11:01.005735Z"
    },
    "papermill": {
     "duration": 0.048103,
     "end_time": "2023-04-24T21:11:01.011087",
     "exception": false,
     "start_time": "2023-04-24T21:11:00.962984",
     "status": "completed"
    },
    "tags": []
   },
   "outputs": [
    {
     "name": "stdout",
     "output_type": "stream",
     "text": [
      "0.7324626865671642\n",
      "{'n_neighbors': 5, 'weights': 'uniform'}\n",
      "KNeighborsClassifier()\n"
     ]
    }
   ],
   "source": [
    "print(grid.best_score_)\n",
    "print(grid.best_params_)\n",
    "print(grid.best_estimator_)"
   ]
  },
  {
   "cell_type": "code",
   "execution_count": 47,
   "id": "478b4b76",
   "metadata": {
    "execution": {
     "iopub.execute_input": "2023-04-24T21:11:01.080841Z",
     "iopub.status.busy": "2023-04-24T21:11:01.079846Z",
     "iopub.status.idle": "2023-04-24T21:11:01.117574Z",
     "shell.execute_reply": "2023-04-24T21:11:01.116000Z"
    },
    "papermill": {
     "duration": 0.076262,
     "end_time": "2023-04-24T21:11:01.120690",
     "exception": false,
     "start_time": "2023-04-24T21:11:01.044428",
     "status": "completed"
    },
    "tags": []
   },
   "outputs": [
    {
     "data": {
      "text/plain": [
       "0.8282828282828283"
      ]
     },
     "execution_count": 47,
     "metadata": {},
     "output_type": "execute_result"
    }
   ],
   "source": [
    "knn_grid= grid.best_estimator_\n",
    "knn_grid.score(x,y)"
   ]
  },
  {
   "cell_type": "code",
   "execution_count": 48,
   "id": "5ea5bf9e",
   "metadata": {
    "execution": {
     "iopub.execute_input": "2023-04-24T21:11:01.187783Z",
     "iopub.status.busy": "2023-04-24T21:11:01.187369Z",
     "iopub.status.idle": "2023-04-24T21:11:01.207999Z",
     "shell.execute_reply": "2023-04-24T21:11:01.206723Z"
    },
    "papermill": {
     "duration": 0.058443,
     "end_time": "2023-04-24T21:11:01.210778",
     "exception": false,
     "start_time": "2023-04-24T21:11:01.152335",
     "status": "completed"
    },
    "tags": []
   },
   "outputs": [
    {
     "name": "stdout",
     "output_type": "stream",
     "text": [
      "              precision    recall  f1-score   support\n",
      "\n",
      "           0       0.82      0.88      0.85       216\n",
      "           1       0.80      0.71      0.75       141\n",
      "\n",
      "    accuracy                           0.82       357\n",
      "   macro avg       0.81      0.80      0.80       357\n",
      "weighted avg       0.81      0.82      0.81       357\n",
      "\n",
      "****************************************************************************************************\n"
     ]
    },
    {
     "data": {
      "text/html": [
       "<div>\n",
       "<style scoped>\n",
       "    .dataframe tbody tr th:only-of-type {\n",
       "        vertical-align: middle;\n",
       "    }\n",
       "\n",
       "    .dataframe tbody tr th {\n",
       "        vertical-align: top;\n",
       "    }\n",
       "\n",
       "    .dataframe thead th {\n",
       "        text-align: right;\n",
       "    }\n",
       "</style>\n",
       "<table border=\"1\" class=\"dataframe\">\n",
       "  <thead>\n",
       "    <tr style=\"text-align: right;\">\n",
       "      <th></th>\n",
       "      <th>Predicted Not-Survived</th>\n",
       "      <th>Predicted Survived</th>\n",
       "    </tr>\n",
       "  </thead>\n",
       "  <tbody>\n",
       "    <tr>\n",
       "      <th>Not-Survived</th>\n",
       "      <td>191</td>\n",
       "      <td>25</td>\n",
       "    </tr>\n",
       "    <tr>\n",
       "      <th>Survived</th>\n",
       "      <td>41</td>\n",
       "      <td>100</td>\n",
       "    </tr>\n",
       "  </tbody>\n",
       "</table>\n",
       "</div>"
      ],
      "text/plain": [
       "              Predicted Not-Survived  Predicted Survived\n",
       "Not-Survived                     191                  25\n",
       "Survived                          41                 100"
      ]
     },
     "execution_count": 48,
     "metadata": {},
     "output_type": "execute_result"
    }
   ],
   "source": [
    "print(classification_report(y_test, Y_pred_knn))\n",
    "print('*'*100)\n",
    "pd.DataFrame(confusion_matrix(y_test,Y_pred_knn),\\\n",
    "            columns=[\"Predicted Not-Survived\", \"Predicted Survived\"],\\\n",
    "            index=[\"Not-Survived\",\"Survived\"])"
   ]
  },
  {
   "cell_type": "code",
   "execution_count": 49,
   "id": "e8e6fd26",
   "metadata": {
    "execution": {
     "iopub.execute_input": "2023-04-24T21:11:01.278779Z",
     "iopub.status.busy": "2023-04-24T21:11:01.277944Z",
     "iopub.status.idle": "2023-04-24T21:11:01.290135Z",
     "shell.execute_reply": "2023-04-24T21:11:01.289094Z"
    },
    "papermill": {
     "duration": 0.048697,
     "end_time": "2023-04-24T21:11:01.293156",
     "exception": false,
     "start_time": "2023-04-24T21:11:01.244459",
     "status": "completed"
    },
    "tags": []
   },
   "outputs": [
    {
     "data": {
      "text/plain": [
       "80.9"
      ]
     },
     "execution_count": 49,
     "metadata": {},
     "output_type": "execute_result"
    }
   ],
   "source": [
    "gaussian = GaussianNB()\n",
    "gaussian.fit(x_train, y_train)\n",
    "Y_pred_gs = gaussian.predict(x_test)\n",
    "acc_gaussian = round(gaussian.score(x_train, y_train) * 100, 2)\n",
    "acc_gaussian"
   ]
  },
  {
   "cell_type": "code",
   "execution_count": 50,
   "id": "ac517902",
   "metadata": {
    "execution": {
     "iopub.execute_input": "2023-04-24T21:11:01.365608Z",
     "iopub.status.busy": "2023-04-24T21:11:01.364496Z",
     "iopub.status.idle": "2023-04-24T21:11:01.387048Z",
     "shell.execute_reply": "2023-04-24T21:11:01.385113Z"
    },
    "papermill": {
     "duration": 0.063349,
     "end_time": "2023-04-24T21:11:01.390017",
     "exception": false,
     "start_time": "2023-04-24T21:11:01.326668",
     "status": "completed"
    },
    "tags": []
   },
   "outputs": [
    {
     "name": "stdout",
     "output_type": "stream",
     "text": [
      "              precision    recall  f1-score   support\n",
      "\n",
      "           0       0.85      0.80      0.82       216\n",
      "           1       0.72      0.78      0.75       141\n",
      "\n",
      "    accuracy                           0.79       357\n",
      "   macro avg       0.78      0.79      0.79       357\n",
      "weighted avg       0.80      0.79      0.79       357\n",
      "\n",
      "****************************************************************************************************\n"
     ]
    },
    {
     "data": {
      "text/html": [
       "<div>\n",
       "<style scoped>\n",
       "    .dataframe tbody tr th:only-of-type {\n",
       "        vertical-align: middle;\n",
       "    }\n",
       "\n",
       "    .dataframe tbody tr th {\n",
       "        vertical-align: top;\n",
       "    }\n",
       "\n",
       "    .dataframe thead th {\n",
       "        text-align: right;\n",
       "    }\n",
       "</style>\n",
       "<table border=\"1\" class=\"dataframe\">\n",
       "  <thead>\n",
       "    <tr style=\"text-align: right;\">\n",
       "      <th></th>\n",
       "      <th>Predicted Not-Survived</th>\n",
       "      <th>Predicted Survived</th>\n",
       "    </tr>\n",
       "  </thead>\n",
       "  <tbody>\n",
       "    <tr>\n",
       "      <th>Not-Survived</th>\n",
       "      <td>173</td>\n",
       "      <td>43</td>\n",
       "    </tr>\n",
       "    <tr>\n",
       "      <th>Survived</th>\n",
       "      <td>31</td>\n",
       "      <td>110</td>\n",
       "    </tr>\n",
       "  </tbody>\n",
       "</table>\n",
       "</div>"
      ],
      "text/plain": [
       "              Predicted Not-Survived  Predicted Survived\n",
       "Not-Survived                     173                  43\n",
       "Survived                          31                 110"
      ]
     },
     "execution_count": 50,
     "metadata": {},
     "output_type": "execute_result"
    }
   ],
   "source": [
    "print(classification_report(y_test, Y_pred_gs))\n",
    "print('*'*100)\n",
    "pd.DataFrame(confusion_matrix(y_test,Y_pred_gs),\\\n",
    "            columns=[\"Predicted Not-Survived\", \"Predicted Survived\"],\\\n",
    "            index=[\"Not-Survived\",\"Survived\"])"
   ]
  },
  {
   "cell_type": "code",
   "execution_count": 51,
   "id": "580fe257",
   "metadata": {
    "execution": {
     "iopub.execute_input": "2023-04-24T21:11:01.460533Z",
     "iopub.status.busy": "2023-04-24T21:11:01.460076Z",
     "iopub.status.idle": "2023-04-24T21:11:01.475534Z",
     "shell.execute_reply": "2023-04-24T21:11:01.473522Z"
    },
    "papermill": {
     "duration": 0.053091,
     "end_time": "2023-04-24T21:11:01.478355",
     "exception": false,
     "start_time": "2023-04-24T21:11:01.425264",
     "status": "completed"
    },
    "tags": []
   },
   "outputs": [
    {
     "data": {
      "text/plain": [
       "97.94"
      ]
     },
     "execution_count": 51,
     "metadata": {},
     "output_type": "execute_result"
    }
   ],
   "source": [
    "decision_tree = DecisionTreeClassifier()\n",
    "decision_tree.fit(x_train, y_train)\n",
    "Y_pred_dt = decision_tree.predict(x_test)\n",
    "acc_decision_tree = round(decision_tree.score(x_train, y_train) * 100, 2)\n",
    "acc_decision_tree"
   ]
  },
  {
   "cell_type": "code",
   "execution_count": 52,
   "id": "12b32cf9",
   "metadata": {
    "execution": {
     "iopub.execute_input": "2023-04-24T21:11:01.547888Z",
     "iopub.status.busy": "2023-04-24T21:11:01.546447Z",
     "iopub.status.idle": "2023-04-24T21:11:01.569084Z",
     "shell.execute_reply": "2023-04-24T21:11:01.567742Z"
    },
    "papermill": {
     "duration": 0.061516,
     "end_time": "2023-04-24T21:11:01.572261",
     "exception": false,
     "start_time": "2023-04-24T21:11:01.510745",
     "status": "completed"
    },
    "tags": []
   },
   "outputs": [
    {
     "name": "stdout",
     "output_type": "stream",
     "text": [
      "              precision    recall  f1-score   support\n",
      "\n",
      "           0       0.78      0.77      0.78       216\n",
      "           1       0.66      0.67      0.66       141\n",
      "\n",
      "    accuracy                           0.73       357\n",
      "   macro avg       0.72      0.72      0.72       357\n",
      "weighted avg       0.73      0.73      0.73       357\n",
      "\n",
      "****************************************************************************************************\n"
     ]
    },
    {
     "data": {
      "text/html": [
       "<div>\n",
       "<style scoped>\n",
       "    .dataframe tbody tr th:only-of-type {\n",
       "        vertical-align: middle;\n",
       "    }\n",
       "\n",
       "    .dataframe tbody tr th {\n",
       "        vertical-align: top;\n",
       "    }\n",
       "\n",
       "    .dataframe thead th {\n",
       "        text-align: right;\n",
       "    }\n",
       "</style>\n",
       "<table border=\"1\" class=\"dataframe\">\n",
       "  <thead>\n",
       "    <tr style=\"text-align: right;\">\n",
       "      <th></th>\n",
       "      <th>Predicted Not-Survived</th>\n",
       "      <th>Predicted Survived</th>\n",
       "    </tr>\n",
       "  </thead>\n",
       "  <tbody>\n",
       "    <tr>\n",
       "      <th>Not-Survived</th>\n",
       "      <td>167</td>\n",
       "      <td>49</td>\n",
       "    </tr>\n",
       "    <tr>\n",
       "      <th>Survived</th>\n",
       "      <td>47</td>\n",
       "      <td>94</td>\n",
       "    </tr>\n",
       "  </tbody>\n",
       "</table>\n",
       "</div>"
      ],
      "text/plain": [
       "              Predicted Not-Survived  Predicted Survived\n",
       "Not-Survived                     167                  49\n",
       "Survived                          47                  94"
      ]
     },
     "execution_count": 52,
     "metadata": {},
     "output_type": "execute_result"
    }
   ],
   "source": [
    "print(classification_report(y_test, Y_pred_dt))\n",
    "print('*'*100)\n",
    "pd.DataFrame(confusion_matrix(y_test,Y_pred_dt),\\\n",
    "            columns=[\"Predicted Not-Survived\", \"Predicted Survived\"],\\\n",
    "            index=[\"Not-Survived\",\"Survived\"])"
   ]
  },
  {
   "cell_type": "code",
   "execution_count": 53,
   "id": "d8b2689f",
   "metadata": {
    "execution": {
     "iopub.execute_input": "2023-04-24T21:11:01.651382Z",
     "iopub.status.busy": "2023-04-24T21:11:01.650939Z",
     "iopub.status.idle": "2023-04-24T21:11:01.966262Z",
     "shell.execute_reply": "2023-04-24T21:11:01.965206Z"
    },
    "papermill": {
     "duration": 0.355367,
     "end_time": "2023-04-24T21:11:01.969063",
     "exception": false,
     "start_time": "2023-04-24T21:11:01.613696",
     "status": "completed"
    },
    "tags": []
   },
   "outputs": [
    {
     "data": {
      "text/plain": [
       "97.94"
      ]
     },
     "execution_count": 53,
     "metadata": {},
     "output_type": "execute_result"
    }
   ],
   "source": [
    "random_forest = RandomForestClassifier(n_estimators=100)\n",
    "random_forest.fit(x_train, y_train)\n",
    "Y_pred_rf = random_forest.predict(x_test)\n",
    "random_forest.score(x_train, y_train)\n",
    "acc_random_forest = round(random_forest.score(x_train, y_train) * 100, 2)\n",
    "acc_random_forest"
   ]
  },
  {
   "cell_type": "code",
   "execution_count": 54,
   "id": "d1c140e4",
   "metadata": {
    "execution": {
     "iopub.execute_input": "2023-04-24T21:11:02.040883Z",
     "iopub.status.busy": "2023-04-24T21:11:02.040464Z",
     "iopub.status.idle": "2023-04-24T21:11:02.064031Z",
     "shell.execute_reply": "2023-04-24T21:11:02.061961Z"
    },
    "papermill": {
     "duration": 0.064114,
     "end_time": "2023-04-24T21:11:02.067512",
     "exception": false,
     "start_time": "2023-04-24T21:11:02.003398",
     "status": "completed"
    },
    "tags": []
   },
   "outputs": [
    {
     "name": "stdout",
     "output_type": "stream",
     "text": [
      "              precision    recall  f1-score   support\n",
      "\n",
      "           0       0.82      0.84      0.83       216\n",
      "           1       0.74      0.72      0.73       141\n",
      "\n",
      "    accuracy                           0.79       357\n",
      "   macro avg       0.78      0.78      0.78       357\n",
      "weighted avg       0.79      0.79      0.79       357\n",
      "\n",
      "****************************************************************************************************\n"
     ]
    },
    {
     "data": {
      "text/html": [
       "<div>\n",
       "<style scoped>\n",
       "    .dataframe tbody tr th:only-of-type {\n",
       "        vertical-align: middle;\n",
       "    }\n",
       "\n",
       "    .dataframe tbody tr th {\n",
       "        vertical-align: top;\n",
       "    }\n",
       "\n",
       "    .dataframe thead th {\n",
       "        text-align: right;\n",
       "    }\n",
       "</style>\n",
       "<table border=\"1\" class=\"dataframe\">\n",
       "  <thead>\n",
       "    <tr style=\"text-align: right;\">\n",
       "      <th></th>\n",
       "      <th>Predicted Not-Survived</th>\n",
       "      <th>Predicted Survived</th>\n",
       "    </tr>\n",
       "  </thead>\n",
       "  <tbody>\n",
       "    <tr>\n",
       "      <th>Not-Survived</th>\n",
       "      <td>181</td>\n",
       "      <td>35</td>\n",
       "    </tr>\n",
       "    <tr>\n",
       "      <th>Survived</th>\n",
       "      <td>40</td>\n",
       "      <td>101</td>\n",
       "    </tr>\n",
       "  </tbody>\n",
       "</table>\n",
       "</div>"
      ],
      "text/plain": [
       "              Predicted Not-Survived  Predicted Survived\n",
       "Not-Survived                     181                  35\n",
       "Survived                          40                 101"
      ]
     },
     "execution_count": 54,
     "metadata": {},
     "output_type": "execute_result"
    }
   ],
   "source": [
    "print(classification_report(y_test, Y_pred_rf))\n",
    "print('*'*100)\n",
    "pd.DataFrame(confusion_matrix(y_test,Y_pred_rf),\\\n",
    "            columns=[\"Predicted Not-Survived\", \"Predicted Survived\"],\\\n",
    "            index=[\"Not-Survived\",\"Survived\"])"
   ]
  },
  {
   "cell_type": "code",
   "execution_count": 55,
   "id": "6b21a187",
   "metadata": {
    "execution": {
     "iopub.execute_input": "2023-04-24T21:11:02.140652Z",
     "iopub.status.busy": "2023-04-24T21:11:02.140215Z",
     "iopub.status.idle": "2023-04-24T21:11:02.153186Z",
     "shell.execute_reply": "2023-04-24T21:11:02.151752Z"
    },
    "papermill": {
     "duration": 0.053329,
     "end_time": "2023-04-24T21:11:02.155814",
     "exception": false,
     "start_time": "2023-04-24T21:11:02.102485",
     "status": "completed"
    },
    "tags": []
   },
   "outputs": [
    {
     "data": {
      "text/plain": [
       "78.09"
      ]
     },
     "execution_count": 55,
     "metadata": {},
     "output_type": "execute_result"
    }
   ],
   "source": [
    "sgd = SGDClassifier()\n",
    "sgd.fit(x_train, y_train)\n",
    "Y_pred_sgd = sgd.predict(x_test)\n",
    "acc_sgd = round(sgd.score(x_train, y_train) * 100, 2)\n",
    "acc_sgd"
   ]
  },
  {
   "cell_type": "code",
   "execution_count": 56,
   "id": "406cc9c4",
   "metadata": {
    "execution": {
     "iopub.execute_input": "2023-04-24T21:11:02.228250Z",
     "iopub.status.busy": "2023-04-24T21:11:02.227739Z",
     "iopub.status.idle": "2023-04-24T21:11:02.252348Z",
     "shell.execute_reply": "2023-04-24T21:11:02.250276Z"
    },
    "papermill": {
     "duration": 0.065751,
     "end_time": "2023-04-24T21:11:02.255419",
     "exception": false,
     "start_time": "2023-04-24T21:11:02.189668",
     "status": "completed"
    },
    "tags": []
   },
   "outputs": [
    {
     "name": "stdout",
     "output_type": "stream",
     "text": [
      "              precision    recall  f1-score   support\n",
      "\n",
      "           0       0.79      0.85      0.82       216\n",
      "           1       0.73      0.65      0.69       141\n",
      "\n",
      "    accuracy                           0.77       357\n",
      "   macro avg       0.76      0.75      0.75       357\n",
      "weighted avg       0.77      0.77      0.76       357\n",
      "\n",
      "****************************************************************************************************\n"
     ]
    },
    {
     "data": {
      "text/html": [
       "<div>\n",
       "<style scoped>\n",
       "    .dataframe tbody tr th:only-of-type {\n",
       "        vertical-align: middle;\n",
       "    }\n",
       "\n",
       "    .dataframe tbody tr th {\n",
       "        vertical-align: top;\n",
       "    }\n",
       "\n",
       "    .dataframe thead th {\n",
       "        text-align: right;\n",
       "    }\n",
       "</style>\n",
       "<table border=\"1\" class=\"dataframe\">\n",
       "  <thead>\n",
       "    <tr style=\"text-align: right;\">\n",
       "      <th></th>\n",
       "      <th>Predicted Not-Survived</th>\n",
       "      <th>Predicted Survived</th>\n",
       "    </tr>\n",
       "  </thead>\n",
       "  <tbody>\n",
       "    <tr>\n",
       "      <th>Not-Survived</th>\n",
       "      <td>183</td>\n",
       "      <td>33</td>\n",
       "    </tr>\n",
       "    <tr>\n",
       "      <th>Survived</th>\n",
       "      <td>50</td>\n",
       "      <td>91</td>\n",
       "    </tr>\n",
       "  </tbody>\n",
       "</table>\n",
       "</div>"
      ],
      "text/plain": [
       "              Predicted Not-Survived  Predicted Survived\n",
       "Not-Survived                     183                  33\n",
       "Survived                          50                  91"
      ]
     },
     "execution_count": 56,
     "metadata": {},
     "output_type": "execute_result"
    }
   ],
   "source": [
    "print(classification_report(y_test, Y_pred_sgd))\n",
    "print('*'*100)\n",
    "pd.DataFrame(confusion_matrix(y_test,Y_pred_sgd),\\\n",
    "            columns=[\"Predicted Not-Survived\", \"Predicted Survived\"],\\\n",
    "            index=[\"Not-Survived\",\"Survived\"])"
   ]
  },
  {
   "cell_type": "code",
   "execution_count": 57,
   "id": "aa024a91",
   "metadata": {
    "execution": {
     "iopub.execute_input": "2023-04-24T21:11:02.325702Z",
     "iopub.status.busy": "2023-04-24T21:11:02.325256Z",
     "iopub.status.idle": "2023-04-24T21:11:02.363188Z",
     "shell.execute_reply": "2023-04-24T21:11:02.361589Z"
    },
    "papermill": {
     "duration": 0.076702,
     "end_time": "2023-04-24T21:11:02.366247",
     "exception": false,
     "start_time": "2023-04-24T21:11:02.289545",
     "status": "completed"
    },
    "tags": []
   },
   "outputs": [],
   "source": [
    "acc_log_tst = round(logreg.score(x_test, y_test) * 100, 2)\n",
    "acc_svc_tst = round(svc.score(x_test, y_test) * 100, 2)\n",
    "acc_gaussian_tst = round(gaussian.score(x_test, y_test) * 100, 2)\n",
    "acc_decision_tree_tst = round(decision_tree.score(x_test, y_test) * 100, 2)\n",
    "acc_random_forest_tst = round(random_forest.score(x_test, y_test) * 100, 2)\n",
    "acc_sgd_tst = round(sgd.score(x_test, y_test) * 100, 2)"
   ]
  },
  {
   "cell_type": "code",
   "execution_count": 58,
   "id": "b839a4af",
   "metadata": {
    "execution": {
     "iopub.execute_input": "2023-04-24T21:11:02.440495Z",
     "iopub.status.busy": "2023-04-24T21:11:02.439511Z",
     "iopub.status.idle": "2023-04-24T21:11:02.458998Z",
     "shell.execute_reply": "2023-04-24T21:11:02.457171Z"
    },
    "papermill": {
     "duration": 0.060769,
     "end_time": "2023-04-24T21:11:02.463008",
     "exception": false,
     "start_time": "2023-04-24T21:11:02.402239",
     "status": "completed"
    },
    "tags": []
   },
   "outputs": [
    {
     "data": {
      "text/html": [
       "<div>\n",
       "<style scoped>\n",
       "    .dataframe tbody tr th:only-of-type {\n",
       "        vertical-align: middle;\n",
       "    }\n",
       "\n",
       "    .dataframe tbody tr th {\n",
       "        vertical-align: top;\n",
       "    }\n",
       "\n",
       "    .dataframe thead th {\n",
       "        text-align: right;\n",
       "    }\n",
       "</style>\n",
       "<table border=\"1\" class=\"dataframe\">\n",
       "  <thead>\n",
       "    <tr style=\"text-align: right;\">\n",
       "      <th></th>\n",
       "      <th>Model</th>\n",
       "      <th>Train Score</th>\n",
       "      <th>Test Score</th>\n",
       "    </tr>\n",
       "  </thead>\n",
       "  <tbody>\n",
       "    <tr>\n",
       "      <th>0</th>\n",
       "      <td>Support Vector Machines</td>\n",
       "      <td>85.39</td>\n",
       "      <td>82.07</td>\n",
       "    </tr>\n",
       "    <tr>\n",
       "      <th>1</th>\n",
       "      <td>KNN</td>\n",
       "      <td>86.14</td>\n",
       "      <td>81.51</td>\n",
       "    </tr>\n",
       "    <tr>\n",
       "      <th>2</th>\n",
       "      <td>Logistic Regression</td>\n",
       "      <td>82.21</td>\n",
       "      <td>79.27</td>\n",
       "    </tr>\n",
       "    <tr>\n",
       "      <th>4</th>\n",
       "      <td>Naive Bayes</td>\n",
       "      <td>80.90</td>\n",
       "      <td>79.27</td>\n",
       "    </tr>\n",
       "    <tr>\n",
       "      <th>3</th>\n",
       "      <td>Random Forest</td>\n",
       "      <td>97.94</td>\n",
       "      <td>78.99</td>\n",
       "    </tr>\n",
       "    <tr>\n",
       "      <th>5</th>\n",
       "      <td>Stochastic Gradient Decent</td>\n",
       "      <td>78.09</td>\n",
       "      <td>76.75</td>\n",
       "    </tr>\n",
       "    <tr>\n",
       "      <th>6</th>\n",
       "      <td>Decision Tree</td>\n",
       "      <td>97.94</td>\n",
       "      <td>73.11</td>\n",
       "    </tr>\n",
       "  </tbody>\n",
       "</table>\n",
       "</div>"
      ],
      "text/plain": [
       "                        Model  Train Score  Test Score\n",
       "0     Support Vector Machines        85.39       82.07\n",
       "1                         KNN        86.14       81.51\n",
       "2         Logistic Regression        82.21       79.27\n",
       "4                 Naive Bayes        80.90       79.27\n",
       "3               Random Forest        97.94       78.99\n",
       "5  Stochastic Gradient Decent        78.09       76.75\n",
       "6               Decision Tree        97.94       73.11"
      ]
     },
     "execution_count": 58,
     "metadata": {},
     "output_type": "execute_result"
    }
   ],
   "source": [
    "models = pd.DataFrame({\n",
    "    'Model': ['Support Vector Machines', 'KNN', 'Logistic Regression', \n",
    "              'Random Forest', 'Naive Bayes', \n",
    "              'Stochastic Gradient Decent',\n",
    "              'Decision Tree'],\n",
    "    'Train Score': [acc_svc, acc_knn, acc_log, \n",
    "              acc_random_forest, acc_gaussian, \n",
    "              acc_sgd, acc_decision_tree],\n",
    "    'Test Score': [acc_svc_tst, acc_knn_tst, acc_log_tst, \n",
    "              acc_random_forest_tst, acc_gaussian_tst, \n",
    "              acc_sgd_tst, acc_decision_tree_tst]})\n",
    "models.sort_values(by='Test Score', ascending=False)"
   ]
  },
  {
   "cell_type": "code",
   "execution_count": 59,
   "id": "725da2be",
   "metadata": {
    "execution": {
     "iopub.execute_input": "2023-04-24T21:11:02.536324Z",
     "iopub.status.busy": "2023-04-24T21:11:02.535768Z",
     "iopub.status.idle": "2023-04-24T21:11:02.544948Z",
     "shell.execute_reply": "2023-04-24T21:11:02.543523Z"
    },
    "papermill": {
     "duration": 0.049923,
     "end_time": "2023-04-24T21:11:02.547531",
     "exception": false,
     "start_time": "2023-04-24T21:11:02.497608",
     "status": "completed"
    },
    "tags": []
   },
   "outputs": [
    {
     "data": {
      "text/plain": [
       "534"
      ]
     },
     "execution_count": 59,
     "metadata": {},
     "output_type": "execute_result"
    }
   ],
   "source": [
    "len(x_train)\n"
   ]
  },
  {
   "cell_type": "code",
   "execution_count": 60,
   "id": "a99d3fff",
   "metadata": {
    "execution": {
     "iopub.execute_input": "2023-04-24T21:11:02.620908Z",
     "iopub.status.busy": "2023-04-24T21:11:02.620494Z",
     "iopub.status.idle": "2023-04-24T21:11:02.628420Z",
     "shell.execute_reply": "2023-04-24T21:11:02.627090Z"
    },
    "papermill": {
     "duration": 0.048848,
     "end_time": "2023-04-24T21:11:02.631122",
     "exception": false,
     "start_time": "2023-04-24T21:11:02.582274",
     "status": "completed"
    },
    "tags": []
   },
   "outputs": [
    {
     "data": {
      "text/plain": [
       "357"
      ]
     },
     "execution_count": 60,
     "metadata": {},
     "output_type": "execute_result"
    }
   ],
   "source": [
    "len(x_test)"
   ]
  },
  {
   "cell_type": "code",
   "execution_count": 61,
   "id": "b656ba42",
   "metadata": {
    "execution": {
     "iopub.execute_input": "2023-04-24T21:11:02.708940Z",
     "iopub.status.busy": "2023-04-24T21:11:02.708479Z",
     "iopub.status.idle": "2023-04-24T21:11:02.728762Z",
     "shell.execute_reply": "2023-04-24T21:11:02.727077Z"
    },
    "papermill": {
     "duration": 0.062697,
     "end_time": "2023-04-24T21:11:02.731643",
     "exception": false,
     "start_time": "2023-04-24T21:11:02.668946",
     "status": "completed"
    },
    "tags": []
   },
   "outputs": [
    {
     "data": {
      "text/html": [
       "<div>\n",
       "<style scoped>\n",
       "    .dataframe tbody tr th:only-of-type {\n",
       "        vertical-align: middle;\n",
       "    }\n",
       "\n",
       "    .dataframe tbody tr th {\n",
       "        vertical-align: top;\n",
       "    }\n",
       "\n",
       "    .dataframe thead th {\n",
       "        text-align: right;\n",
       "    }\n",
       "</style>\n",
       "<table border=\"1\" class=\"dataframe\">\n",
       "  <thead>\n",
       "    <tr style=\"text-align: right;\">\n",
       "      <th></th>\n",
       "      <th>PassengerId</th>\n",
       "      <th>Pclass</th>\n",
       "      <th>Name</th>\n",
       "      <th>Sex</th>\n",
       "      <th>Age</th>\n",
       "      <th>SibSp</th>\n",
       "      <th>Parch</th>\n",
       "      <th>Ticket</th>\n",
       "      <th>Fare</th>\n",
       "      <th>Cabin</th>\n",
       "      <th>Embarked</th>\n",
       "      <th>Title</th>\n",
       "    </tr>\n",
       "  </thead>\n",
       "  <tbody>\n",
       "    <tr>\n",
       "      <th>0</th>\n",
       "      <td>892</td>\n",
       "      <td>3</td>\n",
       "      <td>Kelly, Mr. James</td>\n",
       "      <td>0</td>\n",
       "      <td>34.5</td>\n",
       "      <td>0</td>\n",
       "      <td>0</td>\n",
       "      <td>330911</td>\n",
       "      <td>7.8292</td>\n",
       "      <td>NaN</td>\n",
       "      <td>Q</td>\n",
       "      <td>1</td>\n",
       "    </tr>\n",
       "    <tr>\n",
       "      <th>1</th>\n",
       "      <td>893</td>\n",
       "      <td>3</td>\n",
       "      <td>Wilkes, Mrs. James (Ellen Needs)</td>\n",
       "      <td>1</td>\n",
       "      <td>47.0</td>\n",
       "      <td>1</td>\n",
       "      <td>0</td>\n",
       "      <td>363272</td>\n",
       "      <td>7.0000</td>\n",
       "      <td>NaN</td>\n",
       "      <td>S</td>\n",
       "      <td>3</td>\n",
       "    </tr>\n",
       "    <tr>\n",
       "      <th>2</th>\n",
       "      <td>894</td>\n",
       "      <td>2</td>\n",
       "      <td>Myles, Mr. Thomas Francis</td>\n",
       "      <td>0</td>\n",
       "      <td>62.0</td>\n",
       "      <td>0</td>\n",
       "      <td>0</td>\n",
       "      <td>240276</td>\n",
       "      <td>9.6875</td>\n",
       "      <td>NaN</td>\n",
       "      <td>Q</td>\n",
       "      <td>1</td>\n",
       "    </tr>\n",
       "    <tr>\n",
       "      <th>3</th>\n",
       "      <td>895</td>\n",
       "      <td>3</td>\n",
       "      <td>Wirz, Mr. Albert</td>\n",
       "      <td>0</td>\n",
       "      <td>27.0</td>\n",
       "      <td>0</td>\n",
       "      <td>0</td>\n",
       "      <td>315154</td>\n",
       "      <td>8.6625</td>\n",
       "      <td>NaN</td>\n",
       "      <td>S</td>\n",
       "      <td>1</td>\n",
       "    </tr>\n",
       "    <tr>\n",
       "      <th>4</th>\n",
       "      <td>896</td>\n",
       "      <td>3</td>\n",
       "      <td>Hirvonen, Mrs. Alexander (Helga E Lindqvist)</td>\n",
       "      <td>1</td>\n",
       "      <td>22.0</td>\n",
       "      <td>1</td>\n",
       "      <td>1</td>\n",
       "      <td>3101298</td>\n",
       "      <td>12.2875</td>\n",
       "      <td>NaN</td>\n",
       "      <td>S</td>\n",
       "      <td>3</td>\n",
       "    </tr>\n",
       "  </tbody>\n",
       "</table>\n",
       "</div>"
      ],
      "text/plain": [
       "   PassengerId  Pclass                                          Name  Sex  \\\n",
       "0          892       3                              Kelly, Mr. James    0   \n",
       "1          893       3              Wilkes, Mrs. James (Ellen Needs)    1   \n",
       "2          894       2                     Myles, Mr. Thomas Francis    0   \n",
       "3          895       3                              Wirz, Mr. Albert    0   \n",
       "4          896       3  Hirvonen, Mrs. Alexander (Helga E Lindqvist)    1   \n",
       "\n",
       "    Age  SibSp  Parch   Ticket     Fare Cabin Embarked  Title  \n",
       "0  34.5      0      0   330911   7.8292   NaN        Q      1  \n",
       "1  47.0      1      0   363272   7.0000   NaN        S      3  \n",
       "2  62.0      0      0   240276   9.6875   NaN        Q      1  \n",
       "3  27.0      0      0   315154   8.6625   NaN        S      1  \n",
       "4  22.0      1      1  3101298  12.2875   NaN        S      3  "
      ]
     },
     "execution_count": 61,
     "metadata": {},
     "output_type": "execute_result"
    }
   ],
   "source": [
    "test_df.head()"
   ]
  },
  {
   "cell_type": "code",
   "execution_count": 62,
   "id": "167aa09b",
   "metadata": {
    "execution": {
     "iopub.execute_input": "2023-04-24T21:11:02.807068Z",
     "iopub.status.busy": "2023-04-24T21:11:02.806103Z",
     "iopub.status.idle": "2023-04-24T21:11:02.824812Z",
     "shell.execute_reply": "2023-04-24T21:11:02.823270Z"
    },
    "papermill": {
     "duration": 0.059776,
     "end_time": "2023-04-24T21:11:02.827911",
     "exception": false,
     "start_time": "2023-04-24T21:11:02.768135",
     "status": "completed"
    },
    "tags": []
   },
   "outputs": [
    {
     "data": {
      "text/html": [
       "<div>\n",
       "<style scoped>\n",
       "    .dataframe tbody tr th:only-of-type {\n",
       "        vertical-align: middle;\n",
       "    }\n",
       "\n",
       "    .dataframe tbody tr th {\n",
       "        vertical-align: top;\n",
       "    }\n",
       "\n",
       "    .dataframe thead th {\n",
       "        text-align: right;\n",
       "    }\n",
       "</style>\n",
       "<table border=\"1\" class=\"dataframe\">\n",
       "  <thead>\n",
       "    <tr style=\"text-align: right;\">\n",
       "      <th></th>\n",
       "      <th>Pclass</th>\n",
       "      <th>Sex</th>\n",
       "      <th>Age</th>\n",
       "      <th>SibSp</th>\n",
       "      <th>Parch</th>\n",
       "      <th>Fare</th>\n",
       "      <th>Embarked</th>\n",
       "      <th>Title</th>\n",
       "    </tr>\n",
       "  </thead>\n",
       "  <tbody>\n",
       "    <tr>\n",
       "      <th>0</th>\n",
       "      <td>3</td>\n",
       "      <td>0</td>\n",
       "      <td>34.5</td>\n",
       "      <td>0</td>\n",
       "      <td>0</td>\n",
       "      <td>7.8292</td>\n",
       "      <td>Q</td>\n",
       "      <td>1</td>\n",
       "    </tr>\n",
       "    <tr>\n",
       "      <th>1</th>\n",
       "      <td>3</td>\n",
       "      <td>1</td>\n",
       "      <td>47.0</td>\n",
       "      <td>1</td>\n",
       "      <td>0</td>\n",
       "      <td>7.0000</td>\n",
       "      <td>S</td>\n",
       "      <td>3</td>\n",
       "    </tr>\n",
       "    <tr>\n",
       "      <th>2</th>\n",
       "      <td>2</td>\n",
       "      <td>0</td>\n",
       "      <td>62.0</td>\n",
       "      <td>0</td>\n",
       "      <td>0</td>\n",
       "      <td>9.6875</td>\n",
       "      <td>Q</td>\n",
       "      <td>1</td>\n",
       "    </tr>\n",
       "    <tr>\n",
       "      <th>3</th>\n",
       "      <td>3</td>\n",
       "      <td>0</td>\n",
       "      <td>27.0</td>\n",
       "      <td>0</td>\n",
       "      <td>0</td>\n",
       "      <td>8.6625</td>\n",
       "      <td>S</td>\n",
       "      <td>1</td>\n",
       "    </tr>\n",
       "    <tr>\n",
       "      <th>4</th>\n",
       "      <td>3</td>\n",
       "      <td>1</td>\n",
       "      <td>22.0</td>\n",
       "      <td>1</td>\n",
       "      <td>1</td>\n",
       "      <td>12.2875</td>\n",
       "      <td>S</td>\n",
       "      <td>3</td>\n",
       "    </tr>\n",
       "  </tbody>\n",
       "</table>\n",
       "</div>"
      ],
      "text/plain": [
       "   Pclass  Sex   Age  SibSp  Parch     Fare Embarked  Title\n",
       "0       3    0  34.5      0      0   7.8292        Q      1\n",
       "1       3    1  47.0      1      0   7.0000        S      3\n",
       "2       2    0  62.0      0      0   9.6875        Q      1\n",
       "3       3    0  27.0      0      0   8.6625        S      1\n",
       "4       3    1  22.0      1      1  12.2875        S      3"
      ]
     },
     "execution_count": 62,
     "metadata": {},
     "output_type": "execute_result"
    }
   ],
   "source": [
    "test_df1 = test_df.drop(['Ticket','PassengerId', 'Cabin','Name'], axis=1)\n",
    "test_df1.head()"
   ]
  },
  {
   "cell_type": "code",
   "execution_count": 63,
   "id": "88dc33fd",
   "metadata": {
    "execution": {
     "iopub.execute_input": "2023-04-24T21:11:02.906786Z",
     "iopub.status.busy": "2023-04-24T21:11:02.904822Z",
     "iopub.status.idle": "2023-04-24T21:11:02.923094Z",
     "shell.execute_reply": "2023-04-24T21:11:02.921221Z"
    },
    "papermill": {
     "duration": 0.060312,
     "end_time": "2023-04-24T21:11:02.926375",
     "exception": false,
     "start_time": "2023-04-24T21:11:02.866063",
     "status": "completed"
    },
    "tags": []
   },
   "outputs": [
    {
     "data": {
      "text/html": [
       "<div>\n",
       "<style scoped>\n",
       "    .dataframe tbody tr th:only-of-type {\n",
       "        vertical-align: middle;\n",
       "    }\n",
       "\n",
       "    .dataframe tbody tr th {\n",
       "        vertical-align: top;\n",
       "    }\n",
       "\n",
       "    .dataframe thead th {\n",
       "        text-align: right;\n",
       "    }\n",
       "</style>\n",
       "<table border=\"1\" class=\"dataframe\">\n",
       "  <thead>\n",
       "    <tr style=\"text-align: right;\">\n",
       "      <th></th>\n",
       "      <th>Pclass</th>\n",
       "      <th>Sex</th>\n",
       "      <th>Age</th>\n",
       "      <th>SibSp</th>\n",
       "      <th>Parch</th>\n",
       "      <th>Fare</th>\n",
       "      <th>Embarked</th>\n",
       "      <th>Title</th>\n",
       "    </tr>\n",
       "  </thead>\n",
       "  <tbody>\n",
       "    <tr>\n",
       "      <th>0</th>\n",
       "      <td>3</td>\n",
       "      <td>0</td>\n",
       "      <td>34.5</td>\n",
       "      <td>0</td>\n",
       "      <td>0</td>\n",
       "      <td>7.8292</td>\n",
       "      <td>1</td>\n",
       "      <td>1</td>\n",
       "    </tr>\n",
       "    <tr>\n",
       "      <th>1</th>\n",
       "      <td>3</td>\n",
       "      <td>1</td>\n",
       "      <td>47.0</td>\n",
       "      <td>1</td>\n",
       "      <td>0</td>\n",
       "      <td>7.0000</td>\n",
       "      <td>2</td>\n",
       "      <td>3</td>\n",
       "    </tr>\n",
       "    <tr>\n",
       "      <th>2</th>\n",
       "      <td>2</td>\n",
       "      <td>0</td>\n",
       "      <td>62.0</td>\n",
       "      <td>0</td>\n",
       "      <td>0</td>\n",
       "      <td>9.6875</td>\n",
       "      <td>1</td>\n",
       "      <td>1</td>\n",
       "    </tr>\n",
       "    <tr>\n",
       "      <th>3</th>\n",
       "      <td>3</td>\n",
       "      <td>0</td>\n",
       "      <td>27.0</td>\n",
       "      <td>0</td>\n",
       "      <td>0</td>\n",
       "      <td>8.6625</td>\n",
       "      <td>2</td>\n",
       "      <td>1</td>\n",
       "    </tr>\n",
       "    <tr>\n",
       "      <th>4</th>\n",
       "      <td>3</td>\n",
       "      <td>1</td>\n",
       "      <td>22.0</td>\n",
       "      <td>1</td>\n",
       "      <td>1</td>\n",
       "      <td>12.2875</td>\n",
       "      <td>2</td>\n",
       "      <td>3</td>\n",
       "    </tr>\n",
       "  </tbody>\n",
       "</table>\n",
       "</div>"
      ],
      "text/plain": [
       "   Pclass  Sex   Age  SibSp  Parch     Fare  Embarked  Title\n",
       "0       3    0  34.5      0      0   7.8292         1      1\n",
       "1       3    1  47.0      1      0   7.0000         2      3\n",
       "2       2    0  62.0      0      0   9.6875         1      1\n",
       "3       3    0  27.0      0      0   8.6625         2      1\n",
       "4       3    1  22.0      1      1  12.2875         2      3"
      ]
     },
     "execution_count": 63,
     "metadata": {},
     "output_type": "execute_result"
    }
   ],
   "source": [
    "from sklearn.preprocessing import LabelEncoder\n",
    "le = LabelEncoder()\n",
    "test_df1['Embarked'] = le.fit_transform(test_df['Embarked'])\n",
    "test_df1.head()"
   ]
  },
  {
   "cell_type": "code",
   "execution_count": 64,
   "id": "38ae1ca2",
   "metadata": {
    "execution": {
     "iopub.execute_input": "2023-04-24T21:11:03.005461Z",
     "iopub.status.busy": "2023-04-24T21:11:03.004152Z",
     "iopub.status.idle": "2023-04-24T21:11:03.024831Z",
     "shell.execute_reply": "2023-04-24T21:11:03.023465Z"
    },
    "papermill": {
     "duration": 0.062505,
     "end_time": "2023-04-24T21:11:03.027639",
     "exception": false,
     "start_time": "2023-04-24T21:11:02.965134",
     "status": "completed"
    },
    "tags": []
   },
   "outputs": [
    {
     "data": {
      "text/html": [
       "<div>\n",
       "<style scoped>\n",
       "    .dataframe tbody tr th:only-of-type {\n",
       "        vertical-align: middle;\n",
       "    }\n",
       "\n",
       "    .dataframe tbody tr th {\n",
       "        vertical-align: top;\n",
       "    }\n",
       "\n",
       "    .dataframe thead th {\n",
       "        text-align: right;\n",
       "    }\n",
       "</style>\n",
       "<table border=\"1\" class=\"dataframe\">\n",
       "  <thead>\n",
       "    <tr style=\"text-align: right;\">\n",
       "      <th></th>\n",
       "      <th>Pclass</th>\n",
       "      <th>Sex</th>\n",
       "      <th>Age</th>\n",
       "      <th>SibSp</th>\n",
       "      <th>Parch</th>\n",
       "      <th>Fare</th>\n",
       "      <th>Embarked</th>\n",
       "      <th>Title</th>\n",
       "    </tr>\n",
       "  </thead>\n",
       "  <tbody>\n",
       "    <tr>\n",
       "      <th>0</th>\n",
       "      <td>0.803682</td>\n",
       "      <td>-0.737125</td>\n",
       "      <td>0.406978</td>\n",
       "      <td>-0.464063</td>\n",
       "      <td>-0.468427</td>\n",
       "      <td>-0.462349</td>\n",
       "      <td>-0.718682</td>\n",
       "      <td>-0.699855</td>\n",
       "    </tr>\n",
       "    <tr>\n",
       "      <th>1</th>\n",
       "      <td>0.803682</td>\n",
       "      <td>1.356623</td>\n",
       "      <td>1.371815</td>\n",
       "      <td>0.325139</td>\n",
       "      <td>-0.468427</td>\n",
       "      <td>-0.477756</td>\n",
       "      <td>0.573494</td>\n",
       "      <td>1.293331</td>\n",
       "    </tr>\n",
       "    <tr>\n",
       "      <th>2</th>\n",
       "      <td>-0.408652</td>\n",
       "      <td>-0.737125</td>\n",
       "      <td>2.529619</td>\n",
       "      <td>-0.464063</td>\n",
       "      <td>-0.468427</td>\n",
       "      <td>-0.427821</td>\n",
       "      <td>-0.718682</td>\n",
       "      <td>-0.699855</td>\n",
       "    </tr>\n",
       "    <tr>\n",
       "      <th>3</th>\n",
       "      <td>0.803682</td>\n",
       "      <td>-0.737125</td>\n",
       "      <td>-0.171925</td>\n",
       "      <td>-0.464063</td>\n",
       "      <td>-0.468427</td>\n",
       "      <td>-0.446866</td>\n",
       "      <td>0.573494</td>\n",
       "      <td>-0.699855</td>\n",
       "    </tr>\n",
       "    <tr>\n",
       "      <th>4</th>\n",
       "      <td>0.803682</td>\n",
       "      <td>1.356623</td>\n",
       "      <td>-0.557859</td>\n",
       "      <td>0.325139</td>\n",
       "      <td>0.794906</td>\n",
       "      <td>-0.379512</td>\n",
       "      <td>0.573494</td>\n",
       "      <td>1.293331</td>\n",
       "    </tr>\n",
       "  </tbody>\n",
       "</table>\n",
       "</div>"
      ],
      "text/plain": [
       "     Pclass       Sex       Age     SibSp     Parch      Fare  Embarked  \\\n",
       "0  0.803682 -0.737125  0.406978 -0.464063 -0.468427 -0.462349 -0.718682   \n",
       "1  0.803682  1.356623  1.371815  0.325139 -0.468427 -0.477756  0.573494   \n",
       "2 -0.408652 -0.737125  2.529619 -0.464063 -0.468427 -0.427821 -0.718682   \n",
       "3  0.803682 -0.737125 -0.171925 -0.464063 -0.468427 -0.446866  0.573494   \n",
       "4  0.803682  1.356623 -0.557859  0.325139  0.794906 -0.379512  0.573494   \n",
       "\n",
       "      Title  \n",
       "0 -0.699855  \n",
       "1  1.293331  \n",
       "2 -0.699855  \n",
       "3 -0.699855  \n",
       "4  1.293331  "
      ]
     },
     "execution_count": 64,
     "metadata": {},
     "output_type": "execute_result"
    }
   ],
   "source": [
    "test_x = st_scale.transform(test_df1)\n",
    "pd.DataFrame(test_x,columns=headers).head()"
   ]
  },
  {
   "cell_type": "code",
   "execution_count": 65,
   "id": "85958fc7",
   "metadata": {
    "execution": {
     "iopub.execute_input": "2023-04-24T21:11:03.101751Z",
     "iopub.status.busy": "2023-04-24T21:11:03.100834Z",
     "iopub.status.idle": "2023-04-24T21:11:03.127439Z",
     "shell.execute_reply": "2023-04-24T21:11:03.125659Z"
    },
    "papermill": {
     "duration": 0.066084,
     "end_time": "2023-04-24T21:11:03.130943",
     "exception": false,
     "start_time": "2023-04-24T21:11:03.064859",
     "status": "completed"
    },
    "tags": []
   },
   "outputs": [
    {
     "data": {
      "text/plain": [
       "array([0, 1, 0, 0, 0, 0, 1, 0, 1, 0, 0, 0, 1, 0, 1, 1, 0, 0, 0, 1, 0, 1,\n",
       "       1, 0, 1, 0, 1, 0, 1, 0, 0, 0, 1, 0, 1, 0, 0, 1, 0, 1, 0, 0, 0, 1,\n",
       "       1, 0, 0, 0, 1, 1, 0, 0, 1, 1, 0, 0, 0, 0, 0, 1, 0, 0, 0, 1, 1, 1,\n",
       "       1, 0, 0, 1, 1, 0, 0, 0, 1, 0, 0, 1, 0, 1, 1, 0, 1, 0, 0, 0, 1, 1,\n",
       "       1, 1, 1, 0, 1, 0, 0, 0, 1, 0, 1, 0, 1, 0, 0, 0, 1, 0, 0, 0, 0, 0,\n",
       "       0, 1, 1, 1, 1, 0, 0, 1, 0, 1, 1, 0, 1, 0, 0, 1, 0, 1, 0, 0, 0, 1,\n",
       "       0, 0, 0, 0, 0, 0, 0, 0, 0, 1, 0, 0, 0, 0, 0, 0, 0, 0, 1, 0, 0, 1,\n",
       "       0, 0, 1, 0, 0, 1, 1, 1, 1, 0, 0, 0, 0, 0, 1, 1, 0, 0, 0, 0, 0, 1,\n",
       "       1, 0, 1, 1, 0, 0, 1, 0, 1, 0, 1, 0, 0, 0, 0, 0, 1, 0, 1, 0, 1, 1,\n",
       "       0, 1, 1, 1, 1, 1, 0, 0, 1, 0, 1, 0, 0, 0, 0, 1, 0, 0, 1, 0, 1, 0,\n",
       "       1, 0, 1, 0, 1, 1, 0, 1, 0, 0, 0, 1, 0, 0, 0, 0, 0, 0, 1, 1, 1, 1,\n",
       "       0, 0, 1, 0, 1, 0, 1, 1, 1, 0, 0, 0, 0, 0, 0, 0, 1, 0, 0, 0, 1, 1,\n",
       "       0, 0, 0, 0, 0, 0, 0, 0, 1, 1, 0, 1, 0, 0, 0, 0, 0, 1, 1, 1, 1, 0,\n",
       "       0, 0, 0, 0, 0, 1, 0, 0, 0, 0, 1, 0, 0, 0, 0, 0, 0, 0, 1, 1, 0, 1,\n",
       "       0, 1, 0, 0, 0, 1, 1, 1, 0, 0, 0, 0, 0, 0, 0, 0, 1, 0, 1, 0, 0, 0,\n",
       "       1, 0, 0, 1, 0, 0, 0, 0, 0, 1, 0, 0, 0, 1, 1, 1, 0, 1, 0, 1, 1, 0,\n",
       "       0, 0, 1, 1, 1, 0, 0, 1, 0, 1, 1, 0, 1, 0, 0, 1, 1, 0, 0, 1, 1, 0,\n",
       "       1, 1, 0, 0, 0, 0, 0, 0, 1, 1, 0, 1, 0, 0, 0, 0, 0, 1, 1, 0, 0, 1,\n",
       "       0, 1, 0, 0, 1, 0, 1, 0, 0, 0, 0, 0, 1, 1, 1, 1, 0, 0, 1, 0, 0, 1])"
      ]
     },
     "execution_count": 65,
     "metadata": {},
     "output_type": "execute_result"
    }
   ],
   "source": [
    "knn = KNeighborsClassifier(n_neighbors = 5)\n",
    "knn.fit(x_train, y_train)\n",
    "World_Y = knn.predict(test_x)\n",
    "World_Y"
   ]
  },
  {
   "cell_type": "code",
   "execution_count": 66,
   "id": "4beff0c7",
   "metadata": {
    "execution": {
     "iopub.execute_input": "2023-04-24T21:11:03.204987Z",
     "iopub.status.busy": "2023-04-24T21:11:03.204546Z",
     "iopub.status.idle": "2023-04-24T21:11:03.218462Z",
     "shell.execute_reply": "2023-04-24T21:11:03.216614Z"
    },
    "papermill": {
     "duration": 0.054691,
     "end_time": "2023-04-24T21:11:03.222132",
     "exception": false,
     "start_time": "2023-04-24T21:11:03.167441",
     "status": "completed"
    },
    "tags": []
   },
   "outputs": [
    {
     "data": {
      "text/html": [
       "<div>\n",
       "<style scoped>\n",
       "    .dataframe tbody tr th:only-of-type {\n",
       "        vertical-align: middle;\n",
       "    }\n",
       "\n",
       "    .dataframe tbody tr th {\n",
       "        vertical-align: top;\n",
       "    }\n",
       "\n",
       "    .dataframe thead th {\n",
       "        text-align: right;\n",
       "    }\n",
       "</style>\n",
       "<table border=\"1\" class=\"dataframe\">\n",
       "  <thead>\n",
       "    <tr style=\"text-align: right;\">\n",
       "      <th></th>\n",
       "      <th>PassengerId</th>\n",
       "      <th>Survived</th>\n",
       "    </tr>\n",
       "  </thead>\n",
       "  <tbody>\n",
       "    <tr>\n",
       "      <th>0</th>\n",
       "      <td>892</td>\n",
       "      <td>0</td>\n",
       "    </tr>\n",
       "    <tr>\n",
       "      <th>1</th>\n",
       "      <td>893</td>\n",
       "      <td>1</td>\n",
       "    </tr>\n",
       "    <tr>\n",
       "      <th>2</th>\n",
       "      <td>894</td>\n",
       "      <td>0</td>\n",
       "    </tr>\n",
       "    <tr>\n",
       "      <th>3</th>\n",
       "      <td>895</td>\n",
       "      <td>0</td>\n",
       "    </tr>\n",
       "    <tr>\n",
       "      <th>4</th>\n",
       "      <td>896</td>\n",
       "      <td>0</td>\n",
       "    </tr>\n",
       "  </tbody>\n",
       "</table>\n",
       "</div>"
      ],
      "text/plain": [
       "   PassengerId  Survived\n",
       "0          892         0\n",
       "1          893         1\n",
       "2          894         0\n",
       "3          895         0\n",
       "4          896         0"
      ]
     },
     "execution_count": 66,
     "metadata": {},
     "output_type": "execute_result"
    }
   ],
   "source": [
    "submission = pd.DataFrame({\n",
    "        \"PassengerId\": test_df[\"PassengerId\"],\n",
    "        \"Survived\": World_Y\n",
    "    })\n",
    "submission.head()"
   ]
  },
  {
   "cell_type": "code",
   "execution_count": 67,
   "id": "8388cd96",
   "metadata": {
    "execution": {
     "iopub.execute_input": "2023-04-24T21:11:03.301501Z",
     "iopub.status.busy": "2023-04-24T21:11:03.300905Z",
     "iopub.status.idle": "2023-04-24T21:11:03.314508Z",
     "shell.execute_reply": "2023-04-24T21:11:03.313028Z"
    },
    "papermill": {
     "duration": 0.059031,
     "end_time": "2023-04-24T21:11:03.318565",
     "exception": false,
     "start_time": "2023-04-24T21:11:03.259534",
     "status": "completed"
    },
    "tags": []
   },
   "outputs": [
    {
     "name": "stdout",
     "output_type": "stream",
     "text": [
      "<class 'pandas.core.frame.DataFrame'>\n",
      "RangeIndex: 418 entries, 0 to 417\n",
      "Data columns (total 2 columns):\n",
      " #   Column       Non-Null Count  Dtype\n",
      "---  ------       --------------  -----\n",
      " 0   PassengerId  418 non-null    int64\n",
      " 1   Survived     418 non-null    int64\n",
      "dtypes: int64(2)\n",
      "memory usage: 6.7 KB\n"
     ]
    }
   ],
   "source": [
    "submission.info()"
   ]
  },
  {
   "cell_type": "code",
   "execution_count": 68,
   "id": "828daeb2",
   "metadata": {
    "execution": {
     "iopub.execute_input": "2023-04-24T21:11:03.394246Z",
     "iopub.status.busy": "2023-04-24T21:11:03.393796Z",
     "iopub.status.idle": "2023-04-24T21:11:03.409004Z",
     "shell.execute_reply": "2023-04-24T21:11:03.406889Z"
    },
    "papermill": {
     "duration": 0.057012,
     "end_time": "2023-04-24T21:11:03.412805",
     "exception": false,
     "start_time": "2023-04-24T21:11:03.355793",
     "status": "completed"
    },
    "tags": []
   },
   "outputs": [],
   "source": [
    "submission.to_csv(\"Titanic_submission.csv\", index=False)"
   ]
  },
  {
   "cell_type": "code",
   "execution_count": null,
   "id": "401c8be7",
   "metadata": {
    "papermill": {
     "duration": 0.036621,
     "end_time": "2023-04-24T21:11:03.488349",
     "exception": false,
     "start_time": "2023-04-24T21:11:03.451728",
     "status": "completed"
    },
    "tags": []
   },
   "outputs": [],
   "source": []
  }
 ],
 "metadata": {
  "kernelspec": {
   "display_name": "Python 3",
   "language": "python",
   "name": "python3"
  },
  "language_info": {
   "codemirror_mode": {
    "name": "ipython",
    "version": 3
   },
   "file_extension": ".py",
   "mimetype": "text/x-python",
   "name": "python",
   "nbconvert_exporter": "python",
   "pygments_lexer": "ipython3",
   "version": "3.7.12"
  },
  "papermill": {
   "default_parameters": {},
   "duration": 44.748941,
   "end_time": "2023-04-24T21:11:06.153718",
   "environment_variables": {},
   "exception": null,
   "input_path": "__notebook__.ipynb",
   "output_path": "__notebook__.ipynb",
   "parameters": {},
   "start_time": "2023-04-24T21:10:21.404777",
   "version": "2.4.0"
  }
 },
 "nbformat": 4,
 "nbformat_minor": 5
}
